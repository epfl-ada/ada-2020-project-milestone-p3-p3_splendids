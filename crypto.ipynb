{
 "cells": [
  {
   "cell_type": "markdown",
   "metadata": {},
   "source": [
    "# Project P4\n",
    "## Usage of Balance Theory and Regression for Trade Suggestion in a Crypto-Currency Trading Platform\n",
    "\n",
    "In this project, the aim is to study two different approaches for trade suggestion by a crypto-currency trading platform. The approaches are used to **predict the outcome of a trade between two traders based on their existing trade history data**.\n",
    "\n",
    "The data is retieved from **Stanford Network Analysis Project (SNAP)** and includes the **ratings between the two sides of a trade**:"
   ]
  },
  {
   "cell_type": "markdown",
   "metadata": {},
   "source": [
    "## 1. Import Required Libraries"
   ]
  },
  {
   "cell_type": "code",
   "execution_count": 1,
   "metadata": {},
   "outputs": [],
   "source": [
    "import pandas as pd\n",
    "import numpy as np\n",
    "\n",
    "import networkx as nx\n",
    "\n",
    "import itertools\n",
    "\n",
    "from sklearn.linear_model import LinearRegression\n",
    "from sklearn.ensemble import GradientBoostingRegressor\n",
    "from sklearn.model_selection import train_test_split\n",
    "\n",
    "import matplotlib.pyplot as plt"
   ]
  },
  {
   "cell_type": "markdown",
   "metadata": {},
   "source": [
    "## 2. Reading the Data\n",
    "Now it's time to import the retrieved datasets. The datasets are in **compressed CSV format** (*.csv.gz*). \n",
    "\n",
    "Various columns in the data are separated using **comma**s and each row contains a single record.\n",
    "\n",
    "The CSV files are read into DataFrames with the column names being consistent with the names provided by the authors in the **SNAP** database.\n",
    "\n",
    "**All data are read from the corresponsing files in the Data folder.**"
   ]
  },
  {
   "cell_type": "markdown",
   "metadata": {},
   "source": [
    "### 2.1. Bitcoin Alpha Dataset"
   ]
  },
  {
   "cell_type": "code",
   "execution_count": 2,
   "metadata": {},
   "outputs": [],
   "source": [
    "Bitcoinalpha_df = pd.read_csv('./Data/soc-sign-bitcoinalpha.csv.gz', names = ['Source', 'Target', 'Rating', 'Time'])"
   ]
  },
  {
   "cell_type": "markdown",
   "metadata": {},
   "source": [
    "Let's have a brief look into the loaded dataset."
   ]
  },
  {
   "cell_type": "code",
   "execution_count": 3,
   "metadata": {},
   "outputs": [
    {
     "data": {
      "text/html": [
       "<div>\n",
       "<style scoped>\n",
       "    .dataframe tbody tr th:only-of-type {\n",
       "        vertical-align: middle;\n",
       "    }\n",
       "\n",
       "    .dataframe tbody tr th {\n",
       "        vertical-align: top;\n",
       "    }\n",
       "\n",
       "    .dataframe thead th {\n",
       "        text-align: right;\n",
       "    }\n",
       "</style>\n",
       "<table border=\"1\" class=\"dataframe\">\n",
       "  <thead>\n",
       "    <tr style=\"text-align: right;\">\n",
       "      <th></th>\n",
       "      <th>Source</th>\n",
       "      <th>Target</th>\n",
       "      <th>Rating</th>\n",
       "      <th>Time</th>\n",
       "    </tr>\n",
       "  </thead>\n",
       "  <tbody>\n",
       "    <tr>\n",
       "      <th>0</th>\n",
       "      <td>7188</td>\n",
       "      <td>1</td>\n",
       "      <td>10</td>\n",
       "      <td>1407470400</td>\n",
       "    </tr>\n",
       "    <tr>\n",
       "      <th>1</th>\n",
       "      <td>430</td>\n",
       "      <td>1</td>\n",
       "      <td>10</td>\n",
       "      <td>1376539200</td>\n",
       "    </tr>\n",
       "    <tr>\n",
       "      <th>2</th>\n",
       "      <td>3134</td>\n",
       "      <td>1</td>\n",
       "      <td>10</td>\n",
       "      <td>1369713600</td>\n",
       "    </tr>\n",
       "    <tr>\n",
       "      <th>3</th>\n",
       "      <td>3026</td>\n",
       "      <td>1</td>\n",
       "      <td>10</td>\n",
       "      <td>1350014400</td>\n",
       "    </tr>\n",
       "    <tr>\n",
       "      <th>4</th>\n",
       "      <td>3010</td>\n",
       "      <td>1</td>\n",
       "      <td>10</td>\n",
       "      <td>1347854400</td>\n",
       "    </tr>\n",
       "    <tr>\n",
       "      <th>...</th>\n",
       "      <td>...</td>\n",
       "      <td>...</td>\n",
       "      <td>...</td>\n",
       "      <td>...</td>\n",
       "    </tr>\n",
       "    <tr>\n",
       "      <th>24181</th>\n",
       "      <td>7604</td>\n",
       "      <td>7601</td>\n",
       "      <td>10</td>\n",
       "      <td>1364270400</td>\n",
       "    </tr>\n",
       "    <tr>\n",
       "      <th>24182</th>\n",
       "      <td>7601</td>\n",
       "      <td>7604</td>\n",
       "      <td>10</td>\n",
       "      <td>1364270400</td>\n",
       "    </tr>\n",
       "    <tr>\n",
       "      <th>24183</th>\n",
       "      <td>7604</td>\n",
       "      <td>7602</td>\n",
       "      <td>10</td>\n",
       "      <td>1364270400</td>\n",
       "    </tr>\n",
       "    <tr>\n",
       "      <th>24184</th>\n",
       "      <td>7602</td>\n",
       "      <td>7604</td>\n",
       "      <td>10</td>\n",
       "      <td>1364270400</td>\n",
       "    </tr>\n",
       "    <tr>\n",
       "      <th>24185</th>\n",
       "      <td>7604</td>\n",
       "      <td>7603</td>\n",
       "      <td>-10</td>\n",
       "      <td>1364270400</td>\n",
       "    </tr>\n",
       "  </tbody>\n",
       "</table>\n",
       "<p>24186 rows × 4 columns</p>\n",
       "</div>"
      ],
      "text/plain": [
       "       Source  Target  Rating        Time\n",
       "0        7188       1      10  1407470400\n",
       "1         430       1      10  1376539200\n",
       "2        3134       1      10  1369713600\n",
       "3        3026       1      10  1350014400\n",
       "4        3010       1      10  1347854400\n",
       "...       ...     ...     ...         ...\n",
       "24181    7604    7601      10  1364270400\n",
       "24182    7601    7604      10  1364270400\n",
       "24183    7604    7602      10  1364270400\n",
       "24184    7602    7604      10  1364270400\n",
       "24185    7604    7603     -10  1364270400\n",
       "\n",
       "[24186 rows x 4 columns]"
      ]
     },
     "execution_count": 3,
     "metadata": {},
     "output_type": "execute_result"
    }
   ],
   "source": [
    "Bitcoinalpha_df"
   ]
  },
  {
   "cell_type": "markdown",
   "metadata": {},
   "source": [
    "Let's check the data types in different columns and the values in the **Rating** column:"
   ]
  },
  {
   "cell_type": "code",
   "execution_count": 4,
   "metadata": {},
   "outputs": [
    {
     "data": {
      "text/plain": [
       "Source    int64\n",
       "Target    int64\n",
       "Rating    int64\n",
       "Time      int64\n",
       "dtype: object"
      ]
     },
     "execution_count": 4,
     "metadata": {},
     "output_type": "execute_result"
    }
   ],
   "source": [
    "Bitcoinalpha_df.dtypes"
   ]
  },
  {
   "cell_type": "markdown",
   "metadata": {},
   "source": [
    "As seen there is no challange regarding the data types in the **Bitcoinalpha_df** DataFrame and all the columns contain the expected data types (let's say *int64* for numeric values)"
   ]
  },
  {
   "cell_type": "code",
   "execution_count": 5,
   "metadata": {},
   "outputs": [
    {
     "data": {
      "text/plain": [
       "array([ 10,   9,   7,   6,   5,   4,   3,   2,   1,  -1,   8,  -5, -10,\n",
       "        -2,  -8,  -3,  -4,  -6,  -9,  -7], dtype=int64)"
      ]
     },
     "execution_count": 5,
     "metadata": {},
     "output_type": "execute_result"
    }
   ],
   "source": [
    "Bitcoinalpha_df.Rating.unique()"
   ]
  },
  {
   "cell_type": "markdown",
   "metadata": {},
   "source": [
    "The **Rating** column contains the expected values of **10 to -10**."
   ]
  },
  {
   "cell_type": "markdown",
   "metadata": {},
   "source": [
    "### 2.2. Bitcoin OTC Dataset"
   ]
  },
  {
   "cell_type": "code",
   "execution_count": 6,
   "metadata": {},
   "outputs": [],
   "source": [
    "Bitcoinotc_df = pd.read_csv('./Data/soc-sign-bitcoinotc.csv.gz', names = ['Source', 'Target', 'Rating', 'Time'])"
   ]
  },
  {
   "cell_type": "markdown",
   "metadata": {},
   "source": [
    "Let's have a brief look into the loaded dataset."
   ]
  },
  {
   "cell_type": "code",
   "execution_count": 7,
   "metadata": {},
   "outputs": [
    {
     "data": {
      "text/html": [
       "<div>\n",
       "<style scoped>\n",
       "    .dataframe tbody tr th:only-of-type {\n",
       "        vertical-align: middle;\n",
       "    }\n",
       "\n",
       "    .dataframe tbody tr th {\n",
       "        vertical-align: top;\n",
       "    }\n",
       "\n",
       "    .dataframe thead th {\n",
       "        text-align: right;\n",
       "    }\n",
       "</style>\n",
       "<table border=\"1\" class=\"dataframe\">\n",
       "  <thead>\n",
       "    <tr style=\"text-align: right;\">\n",
       "      <th></th>\n",
       "      <th>Source</th>\n",
       "      <th>Target</th>\n",
       "      <th>Rating</th>\n",
       "      <th>Time</th>\n",
       "    </tr>\n",
       "  </thead>\n",
       "  <tbody>\n",
       "    <tr>\n",
       "      <th>0</th>\n",
       "      <td>6</td>\n",
       "      <td>2</td>\n",
       "      <td>4</td>\n",
       "      <td>1.289242e+09</td>\n",
       "    </tr>\n",
       "    <tr>\n",
       "      <th>1</th>\n",
       "      <td>6</td>\n",
       "      <td>5</td>\n",
       "      <td>2</td>\n",
       "      <td>1.289242e+09</td>\n",
       "    </tr>\n",
       "    <tr>\n",
       "      <th>2</th>\n",
       "      <td>1</td>\n",
       "      <td>15</td>\n",
       "      <td>1</td>\n",
       "      <td>1.289243e+09</td>\n",
       "    </tr>\n",
       "    <tr>\n",
       "      <th>3</th>\n",
       "      <td>4</td>\n",
       "      <td>3</td>\n",
       "      <td>7</td>\n",
       "      <td>1.289245e+09</td>\n",
       "    </tr>\n",
       "    <tr>\n",
       "      <th>4</th>\n",
       "      <td>13</td>\n",
       "      <td>16</td>\n",
       "      <td>8</td>\n",
       "      <td>1.289254e+09</td>\n",
       "    </tr>\n",
       "    <tr>\n",
       "      <th>...</th>\n",
       "      <td>...</td>\n",
       "      <td>...</td>\n",
       "      <td>...</td>\n",
       "      <td>...</td>\n",
       "    </tr>\n",
       "    <tr>\n",
       "      <th>35587</th>\n",
       "      <td>4499</td>\n",
       "      <td>1810</td>\n",
       "      <td>1</td>\n",
       "      <td>1.453612e+09</td>\n",
       "    </tr>\n",
       "    <tr>\n",
       "      <th>35588</th>\n",
       "      <td>2731</td>\n",
       "      <td>3901</td>\n",
       "      <td>5</td>\n",
       "      <td>1.453679e+09</td>\n",
       "    </tr>\n",
       "    <tr>\n",
       "      <th>35589</th>\n",
       "      <td>2731</td>\n",
       "      <td>4897</td>\n",
       "      <td>5</td>\n",
       "      <td>1.453679e+09</td>\n",
       "    </tr>\n",
       "    <tr>\n",
       "      <th>35590</th>\n",
       "      <td>13</td>\n",
       "      <td>1128</td>\n",
       "      <td>1</td>\n",
       "      <td>1.453680e+09</td>\n",
       "    </tr>\n",
       "    <tr>\n",
       "      <th>35591</th>\n",
       "      <td>1128</td>\n",
       "      <td>13</td>\n",
       "      <td>2</td>\n",
       "      <td>1.453684e+09</td>\n",
       "    </tr>\n",
       "  </tbody>\n",
       "</table>\n",
       "<p>35592 rows × 4 columns</p>\n",
       "</div>"
      ],
      "text/plain": [
       "       Source  Target  Rating          Time\n",
       "0           6       2       4  1.289242e+09\n",
       "1           6       5       2  1.289242e+09\n",
       "2           1      15       1  1.289243e+09\n",
       "3           4       3       7  1.289245e+09\n",
       "4          13      16       8  1.289254e+09\n",
       "...       ...     ...     ...           ...\n",
       "35587    4499    1810       1  1.453612e+09\n",
       "35588    2731    3901       5  1.453679e+09\n",
       "35589    2731    4897       5  1.453679e+09\n",
       "35590      13    1128       1  1.453680e+09\n",
       "35591    1128      13       2  1.453684e+09\n",
       "\n",
       "[35592 rows x 4 columns]"
      ]
     },
     "execution_count": 7,
     "metadata": {},
     "output_type": "execute_result"
    }
   ],
   "source": [
    "Bitcoinotc_df"
   ]
  },
  {
   "cell_type": "markdown",
   "metadata": {},
   "source": [
    "Let's check the data types in differenct columns and the values in the **Rating** column:"
   ]
  },
  {
   "cell_type": "code",
   "execution_count": 8,
   "metadata": {},
   "outputs": [
    {
     "data": {
      "text/plain": [
       "Source      int64\n",
       "Target      int64\n",
       "Rating      int64\n",
       "Time      float64\n",
       "dtype: object"
      ]
     },
     "execution_count": 8,
     "metadata": {},
     "output_type": "execute_result"
    }
   ],
   "source": [
    "Bitcoinotc_df.dtypes"
   ]
  },
  {
   "cell_type": "markdown",
   "metadata": {},
   "source": [
    "The **Time** column in the **Bitcoinotc_df** DataFrame is formatted as **float64**, while the rest of the columns are formatted as **int64** as expected. As the values in the **Time** column are not going to be used in further steps, we can leave the DataFrame as is."
   ]
  },
  {
   "cell_type": "code",
   "execution_count": 9,
   "metadata": {},
   "outputs": [
    {
     "data": {
      "text/plain": [
       "array([  4,   2,   1,   7,   8,   5,   9,  10,   3,   6,  -1, -10,  -3,\n",
       "        -6,  -5,  -4,  -2,  -8,  -9,  -7], dtype=int64)"
      ]
     },
     "execution_count": 9,
     "metadata": {},
     "output_type": "execute_result"
    }
   ],
   "source": [
    "Bitcoinotc_df.Rating.unique()"
   ]
  },
  {
   "cell_type": "markdown",
   "metadata": {},
   "source": [
    "The **Rating** column contains values of **10 to -10** as expected."
   ]
  },
  {
   "cell_type": "markdown",
   "metadata": {},
   "source": [
    "## 3. Trading Triads"
   ]
  },
  {
   "cell_type": "markdown",
   "metadata": {},
   "source": [
    "Triads are one of the simplest sub-graphs that can be used as a representative of interactions in between the traders. Using them gives a higher level of information compared to edges, while not complicating the relative interactions.\n",
    "\n",
    "Below, the functions that are being used for calculating the number of triad types in the following sub-sections of this section are presented:"
   ]
  },
  {
   "cell_type": "code",
   "execution_count": 10,
   "metadata": {},
   "outputs": [],
   "source": [
    "def edge_sign_func(w):\n",
    "    \"\"\"\n",
    "    returns the sign according to the given weight\n",
    "    \"\"\"\n",
    "    if w > 0:\n",
    "        sign = '+'\n",
    "    else:\n",
    "        sign = '-'\n",
    "    \n",
    "    return sign\n",
    "\n",
    "def append_signs(sign_list):\n",
    "    \"\"\"\n",
    "    generates triad type list using the outer product for the given sign lists\n",
    "    \"\"\"\n",
    "    # outer product of 1st and 2nd lists\n",
    "    tmp_list = (list(''.join(e) for e in itertools.product(sign_list[0], sign_list[1])))\n",
    "    # outer product of the last product and 3rd list\n",
    "    mixed_signs = (list(''.join(e) for e in itertools.product(tmp_list, sign_list[2])))\n",
    "    # order the triad type so that +s come first\n",
    "    mixed_signs = [''.join(sorted(item)) for item in mixed_signs]\n",
    "    \n",
    "    return mixed_signs\n",
    "\n",
    "def triad_type_counter(df_triads, graph):\n",
    "    \"\"\"\n",
    "    counts the triad types for the given graph and DataFrame of triads and then stores the number in that DataFrame\n",
    "    \"\"\"\n",
    "    for row_id in df_triads.index.tolist():  # go through all rows of the triad DataFrame\n",
    "        # initialize sign and weight lists\n",
    "        sign_list = [[], [], []]\n",
    "        weight_list = [[], [], []]\n",
    "\n",
    "        sign_id = 0  # index for the item in the sign_list\n",
    "\n",
    "        # go through edges: [01, 10], [02, 20], [12, 21]\n",
    "        for i in [0, 1]:\n",
    "            for j in [1, 2]:\n",
    "                if i == j:\n",
    "                    continue\n",
    "                else:\n",
    "                    # edge (i, j) exists?\n",
    "                    if graph.has_edge(df_triads.iat[row_id, i], df_triads.iat[row_id, j]):\n",
    "                        # extract the weights and append the signs to the sign lists\n",
    "                        w = graph.get_edge_data(df_triads.iat[row_id, i], df_triads.iat[row_id, j])['Rating']\n",
    "                        sign_list[sign_id].append(edge_sign_func(w))\n",
    "                        weight_list[sign_id].append(w)\n",
    "\n",
    "                    # edge (j, i) exists?\n",
    "                    if graph.has_edge(df_triads.iat[row_id, j], df_triads.iat[row_id, i]):\n",
    "                        # extract the weights and append the signs to the sign lists\n",
    "                        w = graph.get_edge_data(df_triads.iat[row_id, j], df_triads.iat[row_id, i])['Rating']\n",
    "                        sign_list[sign_id].append(edge_sign_func(w))\n",
    "                        weight_list[sign_id].append(w)\n",
    "\n",
    "                    sign_id += 1  # increment the item index in the sign_list\n",
    "\n",
    "        # append the triad types into the corresponding lists\n",
    "        mixed_signs = append_signs(sign_list)\n",
    "\n",
    "        # increment up the number of each triad type in the corresponding DataFrame\n",
    "        for col_name in mixed_signs:\n",
    "            df_triads.at[row_id, col_name] += 1\n",
    "            \n",
    "        df_triads.at[row_id, '01'] = str(weight_list[0])\n",
    "        df_triads.at[row_id, '02'] = str(weight_list[1])\n",
    "        df_triads.at[row_id, '12'] = str(weight_list[2])\n",
    "    \n",
    "    return df_triads"
   ]
  },
  {
   "cell_type": "markdown",
   "metadata": {},
   "source": [
    "### 3.1. Bitcoin Alpha Dataset\n",
    "#### 3.1.1. Creating a directed graph from the dataset\n",
    "Now a directed graph is created from the resulted DataFrame. The ratings are assigned to the generated edges as **edge attributes**. "
   ]
  },
  {
   "cell_type": "code",
   "execution_count": 11,
   "metadata": {},
   "outputs": [],
   "source": [
    "G_Bitcoinalpha_df = nx.from_pandas_edgelist(Bitcoinalpha_df, 'Source', 'Target', edge_attr='Rating', create_using=nx.DiGraph())"
   ]
  },
  {
   "cell_type": "markdown",
   "metadata": {},
   "source": [
    "#### 3.1.2. Counting the triads in the dataset graph\n",
    "With the directed graph all generated, it's time to extract all the triads in the generated graph. The *triadic_census* command counts all the 16 triad types in the given graph."
   ]
  },
  {
   "cell_type": "code",
   "execution_count": 12,
   "metadata": {},
   "outputs": [],
   "source": [
    "Bitcoinalpha_triads = nx.algorithms.triads.triadic_census(G_Bitcoinalpha_df)"
   ]
  },
  {
   "cell_type": "markdown",
   "metadata": {},
   "source": [
    "Let's take a look at the count of the different types of triads in the graph of **Bitcoinalpha** data."
   ]
  },
  {
   "cell_type": "code",
   "execution_count": 13,
   "metadata": {},
   "outputs": [
    {
     "data": {
      "text/plain": [
       "{'003': 8963414292,\n",
       " '012': 14879710,\n",
       " '102': 36885677,\n",
       " '021D': 43677,\n",
       " '021U': 17083,\n",
       " '021C': 27095,\n",
       " '111D': 93989,\n",
       " '111U': 190593,\n",
       " '030T': 974,\n",
       " '030C': 64,\n",
       " '201': 413062,\n",
       " '120D': 1142,\n",
       " '120U': 1780,\n",
       " '120C': 1163,\n",
       " '210': 7136,\n",
       " '300': 9894}"
      ]
     },
     "execution_count": 13,
     "metadata": {},
     "output_type": "execute_result"
    }
   ],
   "source": [
    "Bitcoinalpha_triads"
   ]
  },
  {
   "cell_type": "markdown",
   "metadata": {},
   "source": [
    "After that the triads are found in the dataset, a list of desirable triad types is generated (**triad_list**). The list is then used to count the number of triads having the favorable type. "
   ]
  },
  {
   "cell_type": "code",
   "execution_count": 14,
   "metadata": {},
   "outputs": [],
   "source": [
    "triad_list = ['030T', '030C', '120D', '120U', '120C', '210', '300']"
   ]
  },
  {
   "cell_type": "code",
   "execution_count": 15,
   "metadata": {},
   "outputs": [
    {
     "data": {
      "text/plain": [
       "22153"
      ]
     },
     "execution_count": 15,
     "metadata": {},
     "output_type": "execute_result"
    }
   ],
   "source": [
    "Bitcoinalpha_no_triads = 0\n",
    "for triad_type in triad_list:\n",
    "    Bitcoinalpha_no_triads += Bitcoinalpha_triads[triad_type]\n",
    "\n",
    "Bitcoinalpha_no_triads"
   ]
  },
  {
   "cell_type": "markdown",
   "metadata": {},
   "source": [
    "It shall be noted that triad types other than **030T** and **030C** are actually representative of more than a single triad. Triad types **120D**, **120U**, and **120C** are representative of **two 3-edge triads** as there are two edges between a pair of nodes in those triad types. For the **210 type**, two edges exist between two pairs of nodes which means four 3-edge triads. Finally, for **300 type**, two edges exist between all node pairs which represents eight 3-edge triads.\n",
    "\n",
    "**So, to calculate the total number of triads, we multiply the number of each triad type by the number of representative 3-edge triads and then sum the up together.**"
   ]
  },
  {
   "cell_type": "code",
   "execution_count": 16,
   "metadata": {},
   "outputs": [],
   "source": [
    "triad_list_dic = {'030T': 1, '030C': 1, '120D': 2, '120U': 2, '120C': 2, '210': 4, '300': 8}"
   ]
  },
  {
   "cell_type": "code",
   "execution_count": 17,
   "metadata": {},
   "outputs": [
    {
     "data": {
      "text/plain": [
       "116904"
      ]
     },
     "execution_count": 17,
     "metadata": {},
     "output_type": "execute_result"
    }
   ],
   "source": [
    "Bitcoinalpha_total_triads = 0\n",
    "for key in triad_list_dic:\n",
    "    Bitcoinalpha_total_triads += Bitcoinalpha_triads[key] * triad_list_dic[key]\n",
    "\n",
    "Bitcoinalpha_total_triads"
   ]
  },
  {
   "cell_type": "markdown",
   "metadata": {},
   "source": [
    "So, **there are 116904 triads in total in the Bitcoin Alpha dataset**."
   ]
  },
  {
   "cell_type": "markdown",
   "metadata": {},
   "source": [
    "#### 3.1.3. Extracting triad nodes\n",
    "Now that the number of each triad type is counted, we need the data for the nodes included in each of those triads. To do so, we use **NetworkX**'s **enumerate_all_cliques** capability. This function returns an *iterator over cliques, each of which is a list of nodes*. The iteration *is ordered by cardinality of the cliques*: first all cliques of size one, then all cliques of size two, etc.\n",
    "\n",
    "The function just works on undirected graphs. Consequently, an undirected graph of the original directed graph is generated and then we iterate through all the cliques in that graph. As the iteration is order by cardinality of the cliques, **we can stop after all the 3rd-degree cliques are covered (triads)**.\n",
    "\n",
    "**An empty DataFrame is filled up with all the nodes of the 3-rd degree cliques (triad)**. The number of rows in that DataFrame would be equal to the number of triads associated with **030T, 030C, 120D, 120U, 120C, 210, 300 types** as **their number follows the same concept as undirected graphs** *(back and forth edges between node pairs are considered as a unique item when being counted by triad type)*. Filling up an empty DataFrame with a pre-defined number of rows is much faster than creating a DataFrame and then appending rows into it."
   ]
  },
  {
   "cell_type": "code",
   "execution_count": 18,
   "metadata": {},
   "outputs": [],
   "source": [
    "# creating an undirected graph to be used\n",
    "UG_Bitcoinalpha_df = G_Bitcoinalpha_df.to_undirected()\n",
    "\n",
    "# iterator over the cliques in an undirected graph\n",
    "all_cliques_Bitcoinalpha = nx.enumerate_all_cliques(UG_Bitcoinalpha_df)\n",
    "# creating an empry DataFrame to be filled up with node data of triads\n",
    "df_triads_Bitcoinalpha = pd.DataFrame(0, index=np.arange(Bitcoinalpha_no_triads), columns=['Node 1', 'Node 2', 'Node 3'])\n",
    "\n",
    "idx = 0  # row counter\n",
    "for x in all_cliques_Bitcoinalpha:  # iterate through all cliques\n",
    "    if len(x) == 3:  # if it is a triad\n",
    "        for i in np.arange(3):  # go through all its nodes\n",
    "            df_triads_Bitcoinalpha.iat[idx, i] = int(x[i])  # and write those nodes to its relative location in DataFrame\n",
    "        idx += 1  # increment up the row number\n",
    "    elif len(x) > 3:  # all triads are covered?\n",
    "        break  # finish it up!"
   ]
  },
  {
   "cell_type": "markdown",
   "metadata": {},
   "source": [
    "Let's take a look into the triad node list DataFrame."
   ]
  },
  {
   "cell_type": "code",
   "execution_count": 19,
   "metadata": {},
   "outputs": [
    {
     "data": {
      "text/html": [
       "<div>\n",
       "<style scoped>\n",
       "    .dataframe tbody tr th:only-of-type {\n",
       "        vertical-align: middle;\n",
       "    }\n",
       "\n",
       "    .dataframe tbody tr th {\n",
       "        vertical-align: top;\n",
       "    }\n",
       "\n",
       "    .dataframe thead th {\n",
       "        text-align: right;\n",
       "    }\n",
       "</style>\n",
       "<table border=\"1\" class=\"dataframe\">\n",
       "  <thead>\n",
       "    <tr style=\"text-align: right;\">\n",
       "      <th></th>\n",
       "      <th>Node 1</th>\n",
       "      <th>Node 2</th>\n",
       "      <th>Node 3</th>\n",
       "    </tr>\n",
       "  </thead>\n",
       "  <tbody>\n",
       "    <tr>\n",
       "      <th>0</th>\n",
       "      <td>1</td>\n",
       "      <td>430</td>\n",
       "      <td>247</td>\n",
       "    </tr>\n",
       "    <tr>\n",
       "      <th>1</th>\n",
       "      <td>1</td>\n",
       "      <td>430</td>\n",
       "      <td>817</td>\n",
       "    </tr>\n",
       "    <tr>\n",
       "      <th>2</th>\n",
       "      <td>1</td>\n",
       "      <td>3134</td>\n",
       "      <td>95</td>\n",
       "    </tr>\n",
       "    <tr>\n",
       "      <th>3</th>\n",
       "      <td>1</td>\n",
       "      <td>3134</td>\n",
       "      <td>617</td>\n",
       "    </tr>\n",
       "    <tr>\n",
       "      <th>4</th>\n",
       "      <td>1</td>\n",
       "      <td>3134</td>\n",
       "      <td>22</td>\n",
       "    </tr>\n",
       "    <tr>\n",
       "      <th>...</th>\n",
       "      <td>...</td>\n",
       "      <td>...</td>\n",
       "      <td>...</td>\n",
       "    </tr>\n",
       "    <tr>\n",
       "      <th>22148</th>\n",
       "      <td>7413</td>\n",
       "      <td>1950</td>\n",
       "      <td>1629</td>\n",
       "    </tr>\n",
       "    <tr>\n",
       "      <th>22149</th>\n",
       "      <td>7413</td>\n",
       "      <td>1629</td>\n",
       "      <td>1949</td>\n",
       "    </tr>\n",
       "    <tr>\n",
       "      <th>22150</th>\n",
       "      <td>465</td>\n",
       "      <td>559</td>\n",
       "      <td>560</td>\n",
       "    </tr>\n",
       "    <tr>\n",
       "      <th>22151</th>\n",
       "      <td>465</td>\n",
       "      <td>559</td>\n",
       "      <td>652</td>\n",
       "    </tr>\n",
       "    <tr>\n",
       "      <th>22152</th>\n",
       "      <td>1329</td>\n",
       "      <td>1037</td>\n",
       "      <td>7416</td>\n",
       "    </tr>\n",
       "  </tbody>\n",
       "</table>\n",
       "<p>22153 rows × 3 columns</p>\n",
       "</div>"
      ],
      "text/plain": [
       "       Node 1  Node 2  Node 3\n",
       "0           1     430     247\n",
       "1           1     430     817\n",
       "2           1    3134      95\n",
       "3           1    3134     617\n",
       "4           1    3134      22\n",
       "...       ...     ...     ...\n",
       "22148    7413    1950    1629\n",
       "22149    7413    1629    1949\n",
       "22150     465     559     560\n",
       "22151     465     559     652\n",
       "22152    1329    1037    7416\n",
       "\n",
       "[22153 rows x 3 columns]"
      ]
     },
     "execution_count": 19,
     "metadata": {},
     "output_type": "execute_result"
    }
   ],
   "source": [
    "df_triads_Bitcoinalpha"
   ]
  },
  {
   "cell_type": "markdown",
   "metadata": {},
   "source": [
    "#### 3.1.4. Appending the corresponding columns for the number of triad types\n",
    "Four columns of **+++**, **++-**, **+--**, and **---** are appended to the triads DataFrame so to keep the number of each triad type in them.\n",
    "\n",
    "Also three additional columns of **01**, **02**, and **12** relating to the weights of the edges between the **Node 1 and Node 2**, **Node 1 and Node 3**, **and Node 3 and Node 2**, are appended to the DataFrame. These three columns are intended to keep the weights of the edges in a given triad."
   ]
  },
  {
   "cell_type": "code",
   "execution_count": 20,
   "metadata": {},
   "outputs": [],
   "source": [
    "df_triads_Bitcoinalpha[\"+++\"] , df_triads_Bitcoinalpha[\"++-\"], df_triads_Bitcoinalpha[\"+--\"], df_triads_Bitcoinalpha[\"---\"], df_triads_Bitcoinalpha['01'], df_triads_Bitcoinalpha['02'], df_triads_Bitcoinalpha['12'] = [0, 0, 0, 0, 'e', 'e', 'e']"
   ]
  },
  {
   "cell_type": "code",
   "execution_count": 21,
   "metadata": {},
   "outputs": [
    {
     "data": {
      "text/html": [
       "<div>\n",
       "<style scoped>\n",
       "    .dataframe tbody tr th:only-of-type {\n",
       "        vertical-align: middle;\n",
       "    }\n",
       "\n",
       "    .dataframe tbody tr th {\n",
       "        vertical-align: top;\n",
       "    }\n",
       "\n",
       "    .dataframe thead th {\n",
       "        text-align: right;\n",
       "    }\n",
       "</style>\n",
       "<table border=\"1\" class=\"dataframe\">\n",
       "  <thead>\n",
       "    <tr style=\"text-align: right;\">\n",
       "      <th></th>\n",
       "      <th>Node 1</th>\n",
       "      <th>Node 2</th>\n",
       "      <th>Node 3</th>\n",
       "      <th>+++</th>\n",
       "      <th>++-</th>\n",
       "      <th>+--</th>\n",
       "      <th>---</th>\n",
       "      <th>01</th>\n",
       "      <th>02</th>\n",
       "      <th>12</th>\n",
       "    </tr>\n",
       "  </thead>\n",
       "  <tbody>\n",
       "    <tr>\n",
       "      <th>0</th>\n",
       "      <td>1</td>\n",
       "      <td>430</td>\n",
       "      <td>247</td>\n",
       "      <td>0</td>\n",
       "      <td>0</td>\n",
       "      <td>0</td>\n",
       "      <td>0</td>\n",
       "      <td>e</td>\n",
       "      <td>e</td>\n",
       "      <td>e</td>\n",
       "    </tr>\n",
       "    <tr>\n",
       "      <th>1</th>\n",
       "      <td>1</td>\n",
       "      <td>430</td>\n",
       "      <td>817</td>\n",
       "      <td>0</td>\n",
       "      <td>0</td>\n",
       "      <td>0</td>\n",
       "      <td>0</td>\n",
       "      <td>e</td>\n",
       "      <td>e</td>\n",
       "      <td>e</td>\n",
       "    </tr>\n",
       "    <tr>\n",
       "      <th>2</th>\n",
       "      <td>1</td>\n",
       "      <td>3134</td>\n",
       "      <td>95</td>\n",
       "      <td>0</td>\n",
       "      <td>0</td>\n",
       "      <td>0</td>\n",
       "      <td>0</td>\n",
       "      <td>e</td>\n",
       "      <td>e</td>\n",
       "      <td>e</td>\n",
       "    </tr>\n",
       "    <tr>\n",
       "      <th>3</th>\n",
       "      <td>1</td>\n",
       "      <td>3134</td>\n",
       "      <td>617</td>\n",
       "      <td>0</td>\n",
       "      <td>0</td>\n",
       "      <td>0</td>\n",
       "      <td>0</td>\n",
       "      <td>e</td>\n",
       "      <td>e</td>\n",
       "      <td>e</td>\n",
       "    </tr>\n",
       "    <tr>\n",
       "      <th>4</th>\n",
       "      <td>1</td>\n",
       "      <td>3134</td>\n",
       "      <td>22</td>\n",
       "      <td>0</td>\n",
       "      <td>0</td>\n",
       "      <td>0</td>\n",
       "      <td>0</td>\n",
       "      <td>e</td>\n",
       "      <td>e</td>\n",
       "      <td>e</td>\n",
       "    </tr>\n",
       "    <tr>\n",
       "      <th>...</th>\n",
       "      <td>...</td>\n",
       "      <td>...</td>\n",
       "      <td>...</td>\n",
       "      <td>...</td>\n",
       "      <td>...</td>\n",
       "      <td>...</td>\n",
       "      <td>...</td>\n",
       "      <td>...</td>\n",
       "      <td>...</td>\n",
       "      <td>...</td>\n",
       "    </tr>\n",
       "    <tr>\n",
       "      <th>22148</th>\n",
       "      <td>7413</td>\n",
       "      <td>1950</td>\n",
       "      <td>1629</td>\n",
       "      <td>0</td>\n",
       "      <td>0</td>\n",
       "      <td>0</td>\n",
       "      <td>0</td>\n",
       "      <td>e</td>\n",
       "      <td>e</td>\n",
       "      <td>e</td>\n",
       "    </tr>\n",
       "    <tr>\n",
       "      <th>22149</th>\n",
       "      <td>7413</td>\n",
       "      <td>1629</td>\n",
       "      <td>1949</td>\n",
       "      <td>0</td>\n",
       "      <td>0</td>\n",
       "      <td>0</td>\n",
       "      <td>0</td>\n",
       "      <td>e</td>\n",
       "      <td>e</td>\n",
       "      <td>e</td>\n",
       "    </tr>\n",
       "    <tr>\n",
       "      <th>22150</th>\n",
       "      <td>465</td>\n",
       "      <td>559</td>\n",
       "      <td>560</td>\n",
       "      <td>0</td>\n",
       "      <td>0</td>\n",
       "      <td>0</td>\n",
       "      <td>0</td>\n",
       "      <td>e</td>\n",
       "      <td>e</td>\n",
       "      <td>e</td>\n",
       "    </tr>\n",
       "    <tr>\n",
       "      <th>22151</th>\n",
       "      <td>465</td>\n",
       "      <td>559</td>\n",
       "      <td>652</td>\n",
       "      <td>0</td>\n",
       "      <td>0</td>\n",
       "      <td>0</td>\n",
       "      <td>0</td>\n",
       "      <td>e</td>\n",
       "      <td>e</td>\n",
       "      <td>e</td>\n",
       "    </tr>\n",
       "    <tr>\n",
       "      <th>22152</th>\n",
       "      <td>1329</td>\n",
       "      <td>1037</td>\n",
       "      <td>7416</td>\n",
       "      <td>0</td>\n",
       "      <td>0</td>\n",
       "      <td>0</td>\n",
       "      <td>0</td>\n",
       "      <td>e</td>\n",
       "      <td>e</td>\n",
       "      <td>e</td>\n",
       "    </tr>\n",
       "  </tbody>\n",
       "</table>\n",
       "<p>22153 rows × 10 columns</p>\n",
       "</div>"
      ],
      "text/plain": [
       "       Node 1  Node 2  Node 3  +++  ++-  +--  --- 01 02 12\n",
       "0           1     430     247    0    0    0    0  e  e  e\n",
       "1           1     430     817    0    0    0    0  e  e  e\n",
       "2           1    3134      95    0    0    0    0  e  e  e\n",
       "3           1    3134     617    0    0    0    0  e  e  e\n",
       "4           1    3134      22    0    0    0    0  e  e  e\n",
       "...       ...     ...     ...  ...  ...  ...  ... .. .. ..\n",
       "22148    7413    1950    1629    0    0    0    0  e  e  e\n",
       "22149    7413    1629    1949    0    0    0    0  e  e  e\n",
       "22150     465     559     560    0    0    0    0  e  e  e\n",
       "22151     465     559     652    0    0    0    0  e  e  e\n",
       "22152    1329    1037    7416    0    0    0    0  e  e  e\n",
       "\n",
       "[22153 rows x 10 columns]"
      ]
     },
     "execution_count": 21,
     "metadata": {},
     "output_type": "execute_result"
    }
   ],
   "source": [
    "df_triads_Bitcoinalpha"
   ]
  },
  {
   "cell_type": "markdown",
   "metadata": {},
   "source": [
    "#### 3.1.5. Counting the number of triad types\n",
    "As mentioned earlier, each of the rows correspond to a triad in an undirected graph. To properly calculated the number of triad types in a directed graph, it's required to control the edges that exist in between the node pairs in a triad. It works as follows:\n",
    "\n",
    "*Let's number the Nodes 1, 2, and 3 as 0, 1, and 2 respectively.*\n",
    "\n",
    "**The main procedures are performed by the triad_type_counter function that is already defined.**\n",
    "\n",
    "1) The edges are studied in the following order: **[01, 10]**, **[02, 20]**, **[12, 21]**\n",
    "\n",
    "2) For each edge pair of **[01, 10]**, or **[02, 20]** or **[12, 21]** it is verified that the edge exists in the **directed graph** (either **original** or **shuffled**).\n",
    "\n",
    "3.1) If the edge exists, its sign is appended to a list. For example: *If both 01 and 10 exist, we may have: ['+', '+']. But if just one of them exists, we may have: ['+'].*\n",
    "\n",
    "3.2) If the edge exists, its weight is also appended to a list. For example: *If both 01 and 10 exist, we may have: [7, 3]. But if just one of them exists, we may have: [7].*\n",
    "\n",
    "\n",
    "4) We go through all the edge pairs and create the sign lists. We may have lists like this: *[\"+\", \"+\"], [\"-\", \"+\"], [\"+\"]*\n",
    "\n",
    "5) Having all the sign lists, it's now time to generate the respective triad types out of them. The defined **append_signs** function performs this task. It **generates the triad types using the outer product** and as a result *for the above lists we may have: [\"+-+\", \"+-+\", \"+++\", \"+++\"].*\n",
    "\n",
    "6) As the order of + and - signs may differ from triad to triad, **we order them such that the +s always come first**.\n",
    "\n",
    "7) Then we iterate through the triad type list generated in **step 5**. The number of the triad type in the respective DataFrame is incremented up.\n",
    "\n",
    "8) The list of the weights recorded in step 3.2 is also inserted in the corresponding DataFrame columns at this stage.\n",
    "\n",
    "9) Steps 1 through 8 are performed for each row of the triad node list DataFrame."
   ]
  },
  {
   "cell_type": "code",
   "execution_count": 22,
   "metadata": {},
   "outputs": [],
   "source": [
    "df_triads_Bitcoinalpha = triad_type_counter(df_triads_Bitcoinalpha, G_Bitcoinalpha_df)"
   ]
  },
  {
   "cell_type": "markdown",
   "metadata": {},
   "source": [
    "Now it's time to take a look into the extracted number of the triad types:"
   ]
  },
  {
   "cell_type": "code",
   "execution_count": 23,
   "metadata": {},
   "outputs": [
    {
     "data": {
      "text/plain": [
       "+++    98349\n",
       "++-    13634\n",
       "+--     4590\n",
       "---      331\n",
       "dtype: object"
      ]
     },
     "execution_count": 23,
     "metadata": {},
     "output_type": "execute_result"
    }
   ],
   "source": [
    "df_triads_Bitcoinalpha.sum()[[\"+++\", \"++-\", \"+--\", \"---\"]]"
   ]
  },
  {
   "cell_type": "markdown",
   "metadata": {},
   "source": [
    "### 3.2. Bitcoin OTC Dataset\n",
    "#### 3.2.1. Creating a directed graph from the dataset\n",
    "Now a directed graph is created from the corresponding DataFrame. The ratings are assigned to the generated edges as **edge attributes**. "
   ]
  },
  {
   "cell_type": "code",
   "execution_count": 24,
   "metadata": {},
   "outputs": [],
   "source": [
    "G_Bitcoinotc_df = nx.from_pandas_edgelist(Bitcoinotc_df, 'Source', 'Target', edge_attr='Rating', create_using=nx.DiGraph())"
   ]
  },
  {
   "cell_type": "markdown",
   "metadata": {},
   "source": [
    "#### 3.2.2. Counting the triads in the dataset graph\n",
    "With the directed graph all generated, it's time to extract all the triads in the generated graph. The *triadic_census* command counts all the 16 triad types in the given graph."
   ]
  },
  {
   "cell_type": "code",
   "execution_count": 25,
   "metadata": {},
   "outputs": [],
   "source": [
    "Bitcoinotc_triads = nx.algorithms.triads.triadic_census(G_Bitcoinotc_df)"
   ]
  },
  {
   "cell_type": "markdown",
   "metadata": {},
   "source": [
    "Let's take a look at the count of the different types of triads in the graph of **Bitcoinotc** data."
   ]
  },
  {
   "cell_type": "code",
   "execution_count": 26,
   "metadata": {},
   "outputs": [
    {
     "data": {
      "text/plain": [
       "{'003': 33758222238,\n",
       " '012': 42302051,\n",
       " '102': 80757538,\n",
       " '021D': 153801,\n",
       " '021U': 36648,\n",
       " '021C': 65143,\n",
       " '111D': 169731,\n",
       " '111U': 440712,\n",
       " '030T': 3706,\n",
       " '030C': 79,\n",
       " '201': 729665,\n",
       " '120D': 2048,\n",
       " '120U': 2910,\n",
       " '120C': 1621,\n",
       " '210': 9377,\n",
       " '300': 13752}"
      ]
     },
     "execution_count": 26,
     "metadata": {},
     "output_type": "execute_result"
    }
   ],
   "source": [
    "Bitcoinotc_triads"
   ]
  },
  {
   "cell_type": "markdown",
   "metadata": {},
   "source": [
    "After that the triads are found in the dataset, the number of triads inluded in **triad_list** is counted. "
   ]
  },
  {
   "cell_type": "code",
   "execution_count": 27,
   "metadata": {},
   "outputs": [
    {
     "data": {
      "text/plain": [
       "33493"
      ]
     },
     "execution_count": 27,
     "metadata": {},
     "output_type": "execute_result"
    }
   ],
   "source": [
    "Bitcoinotc_no_triads = 0\n",
    "for triad_type in triad_list:\n",
    "    Bitcoinotc_no_triads += Bitcoinotc_triads[triad_type]\n",
    "\n",
    "Bitcoinotc_no_triads"
   ]
  },
  {
   "cell_type": "markdown",
   "metadata": {},
   "source": [
    "It shall be noted that triad types other than **030T** and **030C** are actually representative of more than a single triad. Triad types **120D**, **120U**, and **120C** are representative of **two 3-edge triads** as there are two edges between a pair of nodes in those triad types. For the **210 type**, two edges exist between two pairs of nodes which means four 3-edge triads. Finally, for **300 type**, two edges exist between all node pairs which represents eight 3-edge triads.\n",
    "\n",
    "**So, to calculate the total number of triads, we multiply the number of each triad type by the number of representative 3-edge triads and then sum the up together.**"
   ]
  },
  {
   "cell_type": "code",
   "execution_count": 28,
   "metadata": {},
   "outputs": [
    {
     "data": {
      "text/plain": [
       "164467"
      ]
     },
     "execution_count": 28,
     "metadata": {},
     "output_type": "execute_result"
    }
   ],
   "source": [
    "Bitcoinotc_total_triads = 0\n",
    "for key in triad_list_dic:\n",
    "    Bitcoinotc_total_triads += Bitcoinotc_triads[key] * triad_list_dic[key]\n",
    "    \n",
    "Bitcoinotc_total_triads"
   ]
  },
  {
   "cell_type": "markdown",
   "metadata": {},
   "source": [
    "So, **there are 164467 triads in total in the Bitcoin OTC dataset**."
   ]
  },
  {
   "cell_type": "markdown",
   "metadata": {},
   "source": [
    "#### 3.2.3. Extracting Triad Nodes\n",
    "Just like what was performed for the **Bitcoin Alpha** dataset, an undirected graph of the original directed graph is generated and then we iterate through all the cliques in that graph. As the iteration is order by cardinality of the cliques, **we can stop after all the 3rd-degree cliques are covered (triads)**.\n",
    "\n",
    "**An empty DataFrame is then filled up with all the nodes of the 3-rd degree cliques (triad)**."
   ]
  },
  {
   "cell_type": "code",
   "execution_count": 29,
   "metadata": {},
   "outputs": [],
   "source": [
    "# creating an undirected graph to be used\n",
    "UG_Bitcoinotc_df = G_Bitcoinotc_df.to_undirected()\n",
    "\n",
    "# iterator over the cliques in an undirected graph\n",
    "all_cliques_Bitcoinotc = nx.enumerate_all_cliques(UG_Bitcoinotc_df)\n",
    "# creating an empry DataFrame to be filled up with node data of triads\n",
    "df_triads_Bitcoinotc = pd.DataFrame(0, index=np.arange(Bitcoinotc_no_triads), columns=['Node 1', 'Node 2', 'Node 3'])\n",
    "\n",
    "idx = 0  # row counter\n",
    "for x in all_cliques_Bitcoinotc:  # iterate through all cliques\n",
    "    if len(x) == 3:  # if it is a triad\n",
    "        for i in np.arange(3):  # go through all its nodes\n",
    "            df_triads_Bitcoinotc.iat[idx, i] = int(x[i])  # and write those nodes to its relative location in DataFrame\n",
    "        idx += 1  # increment up the row number\n",
    "    elif len(x) > 3:  # all triads are covered?\n",
    "        break  # finish it up!"
   ]
  },
  {
   "cell_type": "markdown",
   "metadata": {},
   "source": [
    "Let's take a look into the triad node list DataFrame."
   ]
  },
  {
   "cell_type": "code",
   "execution_count": 30,
   "metadata": {},
   "outputs": [
    {
     "data": {
      "text/html": [
       "<div>\n",
       "<style scoped>\n",
       "    .dataframe tbody tr th:only-of-type {\n",
       "        vertical-align: middle;\n",
       "    }\n",
       "\n",
       "    .dataframe tbody tr th {\n",
       "        vertical-align: top;\n",
       "    }\n",
       "\n",
       "    .dataframe thead th {\n",
       "        text-align: right;\n",
       "    }\n",
       "</style>\n",
       "<table border=\"1\" class=\"dataframe\">\n",
       "  <thead>\n",
       "    <tr style=\"text-align: right;\">\n",
       "      <th></th>\n",
       "      <th>Node 1</th>\n",
       "      <th>Node 2</th>\n",
       "      <th>Node 3</th>\n",
       "    </tr>\n",
       "  </thead>\n",
       "  <tbody>\n",
       "    <tr>\n",
       "      <th>0</th>\n",
       "      <td>6</td>\n",
       "      <td>2</td>\n",
       "      <td>1</td>\n",
       "    </tr>\n",
       "    <tr>\n",
       "      <th>1</th>\n",
       "      <td>6</td>\n",
       "      <td>2</td>\n",
       "      <td>4</td>\n",
       "    </tr>\n",
       "    <tr>\n",
       "      <th>2</th>\n",
       "      <td>6</td>\n",
       "      <td>2</td>\n",
       "      <td>13</td>\n",
       "    </tr>\n",
       "    <tr>\n",
       "      <th>3</th>\n",
       "      <td>6</td>\n",
       "      <td>2</td>\n",
       "      <td>10</td>\n",
       "    </tr>\n",
       "    <tr>\n",
       "      <th>4</th>\n",
       "      <td>6</td>\n",
       "      <td>2</td>\n",
       "      <td>7</td>\n",
       "    </tr>\n",
       "    <tr>\n",
       "      <th>...</th>\n",
       "      <td>...</td>\n",
       "      <td>...</td>\n",
       "      <td>...</td>\n",
       "    </tr>\n",
       "    <tr>\n",
       "      <th>33488</th>\n",
       "      <td>5760</td>\n",
       "      <td>5762</td>\n",
       "      <td>5763</td>\n",
       "    </tr>\n",
       "    <tr>\n",
       "      <th>33489</th>\n",
       "      <td>5760</td>\n",
       "      <td>5763</td>\n",
       "      <td>5764</td>\n",
       "    </tr>\n",
       "    <tr>\n",
       "      <th>33490</th>\n",
       "      <td>5760</td>\n",
       "      <td>5763</td>\n",
       "      <td>5788</td>\n",
       "    </tr>\n",
       "    <tr>\n",
       "      <th>33491</th>\n",
       "      <td>5942</td>\n",
       "      <td>5943</td>\n",
       "      <td>5955</td>\n",
       "    </tr>\n",
       "    <tr>\n",
       "      <th>33492</th>\n",
       "      <td>5943</td>\n",
       "      <td>5955</td>\n",
       "      <td>5958</td>\n",
       "    </tr>\n",
       "  </tbody>\n",
       "</table>\n",
       "<p>33493 rows × 3 columns</p>\n",
       "</div>"
      ],
      "text/plain": [
       "       Node 1  Node 2  Node 3\n",
       "0           6       2       1\n",
       "1           6       2       4\n",
       "2           6       2      13\n",
       "3           6       2      10\n",
       "4           6       2       7\n",
       "...       ...     ...     ...\n",
       "33488    5760    5762    5763\n",
       "33489    5760    5763    5764\n",
       "33490    5760    5763    5788\n",
       "33491    5942    5943    5955\n",
       "33492    5943    5955    5958\n",
       "\n",
       "[33493 rows x 3 columns]"
      ]
     },
     "execution_count": 30,
     "metadata": {},
     "output_type": "execute_result"
    }
   ],
   "source": [
    "df_triads_Bitcoinotc"
   ]
  },
  {
   "cell_type": "markdown",
   "metadata": {},
   "source": [
    "#### 3.2.4. Appending the corresponding columns for the number of triad types\n",
    "Four columns of **+++**, **++-**, **+--**, and **---** are appended to the triads DataFrame so to keep the number of each triad type in them.\n",
    "\n",
    "Also three additional columns of **01**, **02**, and **12** relating to the weights of the edges between the **Node 1 and Node 2**, **Node 1 and Node 3**, **and Node 3 and Node 2**, are appended to the DataFrame. These three columns are intended to keep the weights of the edges in a given triad."
   ]
  },
  {
   "cell_type": "code",
   "execution_count": 31,
   "metadata": {},
   "outputs": [],
   "source": [
    "df_triads_Bitcoinotc[\"+++\"] , df_triads_Bitcoinotc[\"++-\"], df_triads_Bitcoinotc[\"+--\"], df_triads_Bitcoinotc[\"---\"], df_triads_Bitcoinotc['01'], df_triads_Bitcoinotc['02'], df_triads_Bitcoinotc['12'] = [0, 0, 0, 0, 'e', 'e', 'e']"
   ]
  },
  {
   "cell_type": "code",
   "execution_count": 32,
   "metadata": {},
   "outputs": [
    {
     "data": {
      "text/html": [
       "<div>\n",
       "<style scoped>\n",
       "    .dataframe tbody tr th:only-of-type {\n",
       "        vertical-align: middle;\n",
       "    }\n",
       "\n",
       "    .dataframe tbody tr th {\n",
       "        vertical-align: top;\n",
       "    }\n",
       "\n",
       "    .dataframe thead th {\n",
       "        text-align: right;\n",
       "    }\n",
       "</style>\n",
       "<table border=\"1\" class=\"dataframe\">\n",
       "  <thead>\n",
       "    <tr style=\"text-align: right;\">\n",
       "      <th></th>\n",
       "      <th>Node 1</th>\n",
       "      <th>Node 2</th>\n",
       "      <th>Node 3</th>\n",
       "      <th>+++</th>\n",
       "      <th>++-</th>\n",
       "      <th>+--</th>\n",
       "      <th>---</th>\n",
       "      <th>01</th>\n",
       "      <th>02</th>\n",
       "      <th>12</th>\n",
       "    </tr>\n",
       "  </thead>\n",
       "  <tbody>\n",
       "    <tr>\n",
       "      <th>0</th>\n",
       "      <td>6</td>\n",
       "      <td>2</td>\n",
       "      <td>1</td>\n",
       "      <td>0</td>\n",
       "      <td>0</td>\n",
       "      <td>0</td>\n",
       "      <td>0</td>\n",
       "      <td>e</td>\n",
       "      <td>e</td>\n",
       "      <td>e</td>\n",
       "    </tr>\n",
       "    <tr>\n",
       "      <th>1</th>\n",
       "      <td>6</td>\n",
       "      <td>2</td>\n",
       "      <td>4</td>\n",
       "      <td>0</td>\n",
       "      <td>0</td>\n",
       "      <td>0</td>\n",
       "      <td>0</td>\n",
       "      <td>e</td>\n",
       "      <td>e</td>\n",
       "      <td>e</td>\n",
       "    </tr>\n",
       "    <tr>\n",
       "      <th>2</th>\n",
       "      <td>6</td>\n",
       "      <td>2</td>\n",
       "      <td>13</td>\n",
       "      <td>0</td>\n",
       "      <td>0</td>\n",
       "      <td>0</td>\n",
       "      <td>0</td>\n",
       "      <td>e</td>\n",
       "      <td>e</td>\n",
       "      <td>e</td>\n",
       "    </tr>\n",
       "    <tr>\n",
       "      <th>3</th>\n",
       "      <td>6</td>\n",
       "      <td>2</td>\n",
       "      <td>10</td>\n",
       "      <td>0</td>\n",
       "      <td>0</td>\n",
       "      <td>0</td>\n",
       "      <td>0</td>\n",
       "      <td>e</td>\n",
       "      <td>e</td>\n",
       "      <td>e</td>\n",
       "    </tr>\n",
       "    <tr>\n",
       "      <th>4</th>\n",
       "      <td>6</td>\n",
       "      <td>2</td>\n",
       "      <td>7</td>\n",
       "      <td>0</td>\n",
       "      <td>0</td>\n",
       "      <td>0</td>\n",
       "      <td>0</td>\n",
       "      <td>e</td>\n",
       "      <td>e</td>\n",
       "      <td>e</td>\n",
       "    </tr>\n",
       "    <tr>\n",
       "      <th>...</th>\n",
       "      <td>...</td>\n",
       "      <td>...</td>\n",
       "      <td>...</td>\n",
       "      <td>...</td>\n",
       "      <td>...</td>\n",
       "      <td>...</td>\n",
       "      <td>...</td>\n",
       "      <td>...</td>\n",
       "      <td>...</td>\n",
       "      <td>...</td>\n",
       "    </tr>\n",
       "    <tr>\n",
       "      <th>33488</th>\n",
       "      <td>5760</td>\n",
       "      <td>5762</td>\n",
       "      <td>5763</td>\n",
       "      <td>0</td>\n",
       "      <td>0</td>\n",
       "      <td>0</td>\n",
       "      <td>0</td>\n",
       "      <td>e</td>\n",
       "      <td>e</td>\n",
       "      <td>e</td>\n",
       "    </tr>\n",
       "    <tr>\n",
       "      <th>33489</th>\n",
       "      <td>5760</td>\n",
       "      <td>5763</td>\n",
       "      <td>5764</td>\n",
       "      <td>0</td>\n",
       "      <td>0</td>\n",
       "      <td>0</td>\n",
       "      <td>0</td>\n",
       "      <td>e</td>\n",
       "      <td>e</td>\n",
       "      <td>e</td>\n",
       "    </tr>\n",
       "    <tr>\n",
       "      <th>33490</th>\n",
       "      <td>5760</td>\n",
       "      <td>5763</td>\n",
       "      <td>5788</td>\n",
       "      <td>0</td>\n",
       "      <td>0</td>\n",
       "      <td>0</td>\n",
       "      <td>0</td>\n",
       "      <td>e</td>\n",
       "      <td>e</td>\n",
       "      <td>e</td>\n",
       "    </tr>\n",
       "    <tr>\n",
       "      <th>33491</th>\n",
       "      <td>5942</td>\n",
       "      <td>5943</td>\n",
       "      <td>5955</td>\n",
       "      <td>0</td>\n",
       "      <td>0</td>\n",
       "      <td>0</td>\n",
       "      <td>0</td>\n",
       "      <td>e</td>\n",
       "      <td>e</td>\n",
       "      <td>e</td>\n",
       "    </tr>\n",
       "    <tr>\n",
       "      <th>33492</th>\n",
       "      <td>5943</td>\n",
       "      <td>5955</td>\n",
       "      <td>5958</td>\n",
       "      <td>0</td>\n",
       "      <td>0</td>\n",
       "      <td>0</td>\n",
       "      <td>0</td>\n",
       "      <td>e</td>\n",
       "      <td>e</td>\n",
       "      <td>e</td>\n",
       "    </tr>\n",
       "  </tbody>\n",
       "</table>\n",
       "<p>33493 rows × 10 columns</p>\n",
       "</div>"
      ],
      "text/plain": [
       "       Node 1  Node 2  Node 3  +++  ++-  +--  --- 01 02 12\n",
       "0           6       2       1    0    0    0    0  e  e  e\n",
       "1           6       2       4    0    0    0    0  e  e  e\n",
       "2           6       2      13    0    0    0    0  e  e  e\n",
       "3           6       2      10    0    0    0    0  e  e  e\n",
       "4           6       2       7    0    0    0    0  e  e  e\n",
       "...       ...     ...     ...  ...  ...  ...  ... .. .. ..\n",
       "33488    5760    5762    5763    0    0    0    0  e  e  e\n",
       "33489    5760    5763    5764    0    0    0    0  e  e  e\n",
       "33490    5760    5763    5788    0    0    0    0  e  e  e\n",
       "33491    5942    5943    5955    0    0    0    0  e  e  e\n",
       "33492    5943    5955    5958    0    0    0    0  e  e  e\n",
       "\n",
       "[33493 rows x 10 columns]"
      ]
     },
     "execution_count": 32,
     "metadata": {},
     "output_type": "execute_result"
    }
   ],
   "source": [
    "df_triads_Bitcoinotc"
   ]
  },
  {
   "cell_type": "markdown",
   "metadata": {},
   "source": [
    "#### 3.2.5. Counting the number of triad types\n",
    "The number of each triad type is counted just like the **Bitcoin Alpha** dataset and then the corresponding DataFrame is filled up."
   ]
  },
  {
   "cell_type": "code",
   "execution_count": 33,
   "metadata": {},
   "outputs": [],
   "source": [
    "df_triads_Bitcoinotc = triad_type_counter(df_triads_Bitcoinotc, G_Bitcoinotc_df)"
   ]
  },
  {
   "cell_type": "markdown",
   "metadata": {},
   "source": [
    "Now it's time to take a look into the extracted number of the triad types:"
   ]
  },
  {
   "cell_type": "code",
   "execution_count": 34,
   "metadata": {},
   "outputs": [
    {
     "data": {
      "text/plain": [
       "+++    135845\n",
       "++-     16868\n",
       "+--     11095\n",
       "---       659\n",
       "dtype: object"
      ]
     },
     "execution_count": 34,
     "metadata": {},
     "output_type": "execute_result"
    }
   ],
   "source": [
    "df_triads_Bitcoinotc.sum()[[\"+++\", \"++-\", \"+--\", \"---\"]]"
   ]
  },
  {
   "cell_type": "markdown",
   "metadata": {},
   "source": [
    "## 4. Balance Theory\n",
    "Now that we have counted the total number of each triad type, it's time to control the dataset by the **balance theory**."
   ]
  },
  {
   "cell_type": "markdown",
   "metadata": {},
   "source": [
    "### 4.1. Bitcoin Alpha Dataset\n",
    "#### 4.1.1. Creating a shuffled graph\n",
    "A shuffled graph is generated at this stage based on the original graph. The **connectivities are preserved**, and the **sign of the edges are just shuffled** while **keeping the distribution of positive and negative signs**."
   ]
  },
  {
   "cell_type": "code",
   "execution_count": 35,
   "metadata": {},
   "outputs": [],
   "source": [
    "# shuffling the edge signs and storing the in a new column\n",
    "Bitcoinalpha_df['Rating'] = np.random.permutation(Bitcoinalpha_df[\"Rating\"].values)"
   ]
  },
  {
   "cell_type": "code",
   "execution_count": 36,
   "metadata": {},
   "outputs": [],
   "source": [
    "# creating a directed graph of the shuffled signs\n",
    "G_Bitcoinalpha_shuffled_df = nx.from_pandas_edgelist(\n",
    "    Bitcoinalpha_df, 'Source', 'Target', edge_attr='Rating', create_using=nx.DiGraph())"
   ]
  },
  {
   "cell_type": "code",
   "execution_count": 37,
   "metadata": {},
   "outputs": [],
   "source": [
    "# creating a deep copy of the original triad DataFrame to keep the number of triad types for shuffled graph\n",
    "df_triads_shuffle_Bitcoinalpha = df_triads_Bitcoinalpha.copy(deep=True)\n",
    "df_triads_shuffle_Bitcoinalpha[[\"+++\", \"++-\", \"+--\", \"---\"]] = [0, 0, 0, 0]"
   ]
  },
  {
   "cell_type": "markdown",
   "metadata": {},
   "source": [
    "#### 4.1.2. Counting the number of graph types in the shuffled graph\n",
    "The number of each triad type is counted for the **shuffled graph** and then the corresponding DataFrame is filled up."
   ]
  },
  {
   "cell_type": "code",
   "execution_count": 38,
   "metadata": {},
   "outputs": [],
   "source": [
    "df_triads_shuffle_Bitcoinalpha = triad_type_counter(df_triads_shuffle_Bitcoinalpha, G_Bitcoinalpha_shuffled_df)"
   ]
  },
  {
   "cell_type": "markdown",
   "metadata": {},
   "source": [
    "Now it's time to take a look into the extracted number of the triad types:"
   ]
  },
  {
   "cell_type": "code",
   "execution_count": 39,
   "metadata": {},
   "outputs": [
    {
     "data": {
      "text/plain": [
       "+++    94170\n",
       "++-    21094\n",
       "+--     1603\n",
       "---       37\n",
       "dtype: object"
      ]
     },
     "execution_count": 39,
     "metadata": {},
     "output_type": "execute_result"
    }
   ],
   "source": [
    "df_triads_shuffle_Bitcoinalpha.sum()[[\"+++\", \"++-\", \"+--\", \"---\"]]"
   ]
  },
  {
   "cell_type": "markdown",
   "metadata": {},
   "source": [
    "### 4.2. Bitcoin OTC Dataset\n",
    "#### 4.2.1. Creating a shuffled graph\n",
    "A shuffled graph is generated at this stage based on the original graph. The **connectivities are preserved**, and the **sign of the edges are just shuffled** while **keeping the distribution of positive and negative signs**."
   ]
  },
  {
   "cell_type": "code",
   "execution_count": 40,
   "metadata": {},
   "outputs": [],
   "source": [
    "# shuffling the edge signs and storing the in a new column\n",
    "Bitcoinotc_df['Rating'] = np.random.permutation(Bitcoinotc_df[\"Rating\"].values)"
   ]
  },
  {
   "cell_type": "code",
   "execution_count": 41,
   "metadata": {},
   "outputs": [],
   "source": [
    "# creating a directed graph of the shuffled signs\n",
    "G_Bitcoinotc_shuffled_df = nx.from_pandas_edgelist(\n",
    "    Bitcoinotc_df, 'Source', 'Target', edge_attr='Rating', create_using=nx.DiGraph())"
   ]
  },
  {
   "cell_type": "code",
   "execution_count": 42,
   "metadata": {},
   "outputs": [],
   "source": [
    "# creating a deep copy of the original triad DataFrame to keep the number of triad types for shuffled graph\n",
    "df_triads_shuffle_Bitcoinotc = df_triads_Bitcoinotc.copy(deep=True)\n",
    "df_triads_shuffle_Bitcoinotc[[\"+++\", \"++-\", \"+--\", \"---\"]] = [0, 0, 0, 0]"
   ]
  },
  {
   "cell_type": "markdown",
   "metadata": {},
   "source": [
    "#### 4.2.2. Counting the number of graph types in the shuffled graph\n",
    "The number of each triad type is counted for the **shuffled graph** and then the corresponding DataFrame is filled up."
   ]
  },
  {
   "cell_type": "code",
   "execution_count": 43,
   "metadata": {},
   "outputs": [],
   "source": [
    "df_triads_shuffle_Bitcoinotc = triad_type_counter(df_triads_shuffle_Bitcoinotc, G_Bitcoinotc_shuffled_df)"
   ]
  },
  {
   "cell_type": "markdown",
   "metadata": {},
   "source": [
    "Now it's time to take a look into the extracted number of the triad types:"
   ]
  },
  {
   "cell_type": "code",
   "execution_count": 44,
   "metadata": {
    "scrolled": true
   },
   "outputs": [
    {
     "data": {
      "text/plain": [
       "+++    119010\n",
       "++-     40648\n",
       "+--      4649\n",
       "---       160\n",
       "dtype: object"
      ]
     },
     "execution_count": 44,
     "metadata": {},
     "output_type": "execute_result"
    }
   ],
   "source": [
    "df_triads_shuffle_Bitcoinotc.sum()[[\"+++\", \"++-\", \"+--\", \"---\"]]"
   ]
  },
  {
   "cell_type": "markdown",
   "metadata": {},
   "source": [
    "### 4.3. Comparing the Number of Triads in the Original and Shuffled Graph\n",
    "We have generated a shuffled version of the original graph by preserving the ratio of the positive and negative nodes. By comparing the number of triad types in each of the **original** and **shuffled** graph, we may find if a certain type of graph is over- or under- represented in our data compared to the randomly generated graph."
   ]
  },
  {
   "cell_type": "code",
   "execution_count": 45,
   "metadata": {},
   "outputs": [],
   "source": [
    "# creating a multi index DataFrame for replication\n",
    "iterables = [['Bitcoin Alpha', 'Bitcoin OTC'], ['T3 +++', 'T2 ++-', 'T1 +--', 'T0 ---']]\n",
    "index = pd.MultiIndex.from_product(iterables, names=['Dataset', 'Triad (Ti)'])\n",
    "\n",
    "compare_table = pd.DataFrame(columns = ['|Ti|', 'p(Ti)', 'p0(Ti)', 's(Ti)'], index = index)"
   ]
  },
  {
   "cell_type": "code",
   "execution_count": 46,
   "metadata": {},
   "outputs": [
    {
     "data": {
      "text/html": [
       "<div>\n",
       "<style scoped>\n",
       "    .dataframe tbody tr th:only-of-type {\n",
       "        vertical-align: middle;\n",
       "    }\n",
       "\n",
       "    .dataframe tbody tr th {\n",
       "        vertical-align: top;\n",
       "    }\n",
       "\n",
       "    .dataframe thead th {\n",
       "        text-align: right;\n",
       "    }\n",
       "</style>\n",
       "<table border=\"1\" class=\"dataframe\">\n",
       "  <thead>\n",
       "    <tr style=\"text-align: right;\">\n",
       "      <th></th>\n",
       "      <th></th>\n",
       "      <th>|Ti|</th>\n",
       "      <th>p(Ti)</th>\n",
       "      <th>p0(Ti)</th>\n",
       "      <th>s(Ti)</th>\n",
       "    </tr>\n",
       "    <tr>\n",
       "      <th>Dataset</th>\n",
       "      <th>Triad (Ti)</th>\n",
       "      <th></th>\n",
       "      <th></th>\n",
       "      <th></th>\n",
       "      <th></th>\n",
       "    </tr>\n",
       "  </thead>\n",
       "  <tbody>\n",
       "    <tr>\n",
       "      <th rowspan=\"4\" valign=\"top\">Bitcoin Alpha</th>\n",
       "      <th>T3 +++</th>\n",
       "      <td>NaN</td>\n",
       "      <td>NaN</td>\n",
       "      <td>NaN</td>\n",
       "      <td>NaN</td>\n",
       "    </tr>\n",
       "    <tr>\n",
       "      <th>T2 ++-</th>\n",
       "      <td>NaN</td>\n",
       "      <td>NaN</td>\n",
       "      <td>NaN</td>\n",
       "      <td>NaN</td>\n",
       "    </tr>\n",
       "    <tr>\n",
       "      <th>T1 +--</th>\n",
       "      <td>NaN</td>\n",
       "      <td>NaN</td>\n",
       "      <td>NaN</td>\n",
       "      <td>NaN</td>\n",
       "    </tr>\n",
       "    <tr>\n",
       "      <th>T0 ---</th>\n",
       "      <td>NaN</td>\n",
       "      <td>NaN</td>\n",
       "      <td>NaN</td>\n",
       "      <td>NaN</td>\n",
       "    </tr>\n",
       "    <tr>\n",
       "      <th rowspan=\"4\" valign=\"top\">Bitcoin OTC</th>\n",
       "      <th>T3 +++</th>\n",
       "      <td>NaN</td>\n",
       "      <td>NaN</td>\n",
       "      <td>NaN</td>\n",
       "      <td>NaN</td>\n",
       "    </tr>\n",
       "    <tr>\n",
       "      <th>T2 ++-</th>\n",
       "      <td>NaN</td>\n",
       "      <td>NaN</td>\n",
       "      <td>NaN</td>\n",
       "      <td>NaN</td>\n",
       "    </tr>\n",
       "    <tr>\n",
       "      <th>T1 +--</th>\n",
       "      <td>NaN</td>\n",
       "      <td>NaN</td>\n",
       "      <td>NaN</td>\n",
       "      <td>NaN</td>\n",
       "    </tr>\n",
       "    <tr>\n",
       "      <th>T0 ---</th>\n",
       "      <td>NaN</td>\n",
       "      <td>NaN</td>\n",
       "      <td>NaN</td>\n",
       "      <td>NaN</td>\n",
       "    </tr>\n",
       "  </tbody>\n",
       "</table>\n",
       "</div>"
      ],
      "text/plain": [
       "                         |Ti| p(Ti) p0(Ti) s(Ti)\n",
       "Dataset       Triad (Ti)                        \n",
       "Bitcoin Alpha T3 +++      NaN   NaN    NaN   NaN\n",
       "              T2 ++-      NaN   NaN    NaN   NaN\n",
       "              T1 +--      NaN   NaN    NaN   NaN\n",
       "              T0 ---      NaN   NaN    NaN   NaN\n",
       "Bitcoin OTC   T3 +++      NaN   NaN    NaN   NaN\n",
       "              T2 ++-      NaN   NaN    NaN   NaN\n",
       "              T1 +--      NaN   NaN    NaN   NaN\n",
       "              T0 ---      NaN   NaN    NaN   NaN"
      ]
     },
     "execution_count": 46,
     "metadata": {},
     "output_type": "execute_result"
    }
   ],
   "source": [
    "compare_table"
   ]
  },
  {
   "cell_type": "markdown",
   "metadata": {},
   "source": [
    "Now let's fill up the epmty DataFrame with the corresponding values:"
   ]
  },
  {
   "cell_type": "code",
   "execution_count": 47,
   "metadata": {},
   "outputs": [],
   "source": [
    "compare_table.loc[('Bitcoin Alpha', 'T3 +++')] = [df_triads_Bitcoinalpha.sum()[[\"+++\"]][0], \n",
    "                                   round((df_triads_Bitcoinalpha.sum()[[\"+++\"]][0])/Bitcoinalpha_total_triads, 3), \n",
    "                                   round((df_triads_shuffle_Bitcoinalpha.sum()[[\"+++\"]][0])/Bitcoinalpha_total_triads, 3), \n",
    "                                   round((df_triads_Bitcoinalpha.sum()[[\"+++\"]][0] - df_triads_shuffle_Bitcoinalpha.sum()[[\"+++\"]][0])/(np.sqrt((df_triads_shuffle_Bitcoinalpha.sum()[[\"+++\"]][0])*(1-(df_triads_shuffle_Bitcoinalpha.sum()[[\"+++\"]][0])/Bitcoinalpha_total_triads))), 1)]\n",
    "compare_table.loc[('Bitcoin Alpha', 'T2 ++-')] = [df_triads_Bitcoinalpha.sum()[[\"++-\"]][0], \n",
    "                                   round((df_triads_Bitcoinalpha.sum()[[\"++-\"]][0])/Bitcoinalpha_total_triads, 3), \n",
    "                                   round((df_triads_shuffle_Bitcoinalpha.sum()[[\"++-\"]][0])/Bitcoinalpha_total_triads, 3), \n",
    "                                   round((df_triads_Bitcoinalpha.sum()[[\"++-\"]][0] - df_triads_shuffle_Bitcoinalpha.sum()[[\"++-\"]][0])/(np.sqrt((df_triads_shuffle_Bitcoinalpha.sum()[[\"++-\"]][0])*(1-(df_triads_shuffle_Bitcoinalpha.sum()[[\"++-\"]][0])/Bitcoinalpha_total_triads))), 1)]\n",
    "compare_table.loc[('Bitcoin Alpha', 'T1 +--')] = [df_triads_Bitcoinalpha.sum()[[\"+--\"]][0], \n",
    "                                   round((df_triads_Bitcoinalpha.sum()[[\"+--\"]][0])/Bitcoinalpha_total_triads, 3), \n",
    "                                   round((df_triads_shuffle_Bitcoinalpha.sum()[[\"+--\"]][0])/Bitcoinalpha_total_triads, 3), \n",
    "                                   round((df_triads_Bitcoinalpha.sum()[[\"+--\"]][0] - df_triads_shuffle_Bitcoinalpha.sum()[[\"+--\"]][0])/(np.sqrt((df_triads_shuffle_Bitcoinalpha.sum()[[\"+--\"]][0])*(1-(df_triads_shuffle_Bitcoinalpha.sum()[[\"+--\"]][0])/Bitcoinalpha_total_triads))), 1)]\n",
    "compare_table.loc[('Bitcoin Alpha', 'T0 ---')] = [df_triads_Bitcoinalpha.sum()[[\"---\"]][0], \n",
    "                                   round((df_triads_Bitcoinalpha.sum()[[\"---\"]][0])/Bitcoinalpha_total_triads, 3), \n",
    "                                   round((df_triads_shuffle_Bitcoinalpha.sum()[[\"---\"]][0])/Bitcoinalpha_total_triads, 3), \n",
    "                                   round((df_triads_Bitcoinalpha.sum()[[\"---\"]][0] - df_triads_shuffle_Bitcoinalpha.sum()[[\"---\"]][0])/(np.sqrt((df_triads_shuffle_Bitcoinalpha.sum()[[\"---\"]][0])*(1-(df_triads_shuffle_Bitcoinalpha.sum()[[\"---\"]][0])/Bitcoinalpha_total_triads))), 1)]"
   ]
  },
  {
   "cell_type": "code",
   "execution_count": 48,
   "metadata": {},
   "outputs": [],
   "source": [
    "compare_table.loc[('Bitcoin OTC', 'T3 +++')] = [df_triads_Bitcoinotc.sum()[[\"+++\"]][0], \n",
    "                                   round((df_triads_Bitcoinotc.sum()[[\"+++\"]][0])/Bitcoinotc_total_triads, 3), \n",
    "                                   round((df_triads_shuffle_Bitcoinotc.sum()[[\"+++\"]][0])/Bitcoinotc_total_triads, 3), \n",
    "                                   round((df_triads_Bitcoinotc.sum()[[\"+++\"]][0] - df_triads_shuffle_Bitcoinotc.sum()[[\"+++\"]][0])/(np.sqrt((df_triads_shuffle_Bitcoinotc.sum()[[\"+++\"]][0])*(1-(df_triads_shuffle_Bitcoinotc.sum()[[\"+++\"]][0])/Bitcoinotc_total_triads))), 1)]\n",
    "compare_table.loc[('Bitcoin OTC', 'T2 ++-')] = [df_triads_Bitcoinotc.sum()[[\"++-\"]][0], \n",
    "                                   round((df_triads_Bitcoinotc.sum()[[\"++-\"]][0])/Bitcoinotc_total_triads, 3), \n",
    "                                   round((df_triads_shuffle_Bitcoinotc.sum()[[\"++-\"]][0])/Bitcoinotc_total_triads, 3), \n",
    "                                   round((df_triads_Bitcoinotc.sum()[[\"++-\"]][0] - df_triads_shuffle_Bitcoinotc.sum()[[\"++-\"]][0])/(np.sqrt((df_triads_shuffle_Bitcoinotc.sum()[[\"++-\"]][0])*(1-(df_triads_shuffle_Bitcoinotc.sum()[[\"++-\"]][0])/Bitcoinotc_total_triads))), 1)]\n",
    "compare_table.loc[('Bitcoin OTC', 'T1 +--')] = [df_triads_Bitcoinotc.sum()[[\"+--\"]][0], \n",
    "                                   round((df_triads_Bitcoinotc.sum()[[\"+--\"]][0])/Bitcoinotc_total_triads, 3), \n",
    "                                   round((df_triads_shuffle_Bitcoinotc.sum()[[\"+--\"]][0])/Bitcoinotc_total_triads, 3), \n",
    "                                   round((df_triads_Bitcoinotc.sum()[[\"+--\"]][0] - df_triads_shuffle_Bitcoinotc.sum()[[\"+--\"]][0])/(np.sqrt((df_triads_shuffle_Bitcoinotc.sum()[[\"+--\"]][0])*(1-(df_triads_shuffle_Bitcoinotc.sum()[[\"+--\"]][0])/Bitcoinotc_total_triads))), 1)]\n",
    "compare_table.loc[('Bitcoin OTC', 'T0 ---')] = [df_triads_Bitcoinotc.sum()[[\"---\"]][0], \n",
    "                                   round((df_triads_Bitcoinotc.sum()[[\"---\"]][0])/Bitcoinotc_total_triads, 3), \n",
    "                                   round((df_triads_shuffle_Bitcoinotc.sum()[[\"---\"]][0])/Bitcoinotc_total_triads, 3), \n",
    "                                   round((df_triads_Bitcoinotc.sum()[[\"---\"]][0] - df_triads_shuffle_Bitcoinotc.sum()[[\"---\"]][0])/(np.sqrt((df_triads_shuffle_Bitcoinotc.sum()[[\"---\"]][0])*(1-(df_triads_shuffle_Bitcoinotc.sum()[[\"---\"]][0])/Bitcoinotc_total_triads))), 1)]"
   ]
  },
  {
   "cell_type": "markdown",
   "metadata": {},
   "source": [
    "Now, let's take a look into the comparison of the distribution of triad types in **original** and **shuffled** graphs."
   ]
  },
  {
   "cell_type": "code",
   "execution_count": 49,
   "metadata": {},
   "outputs": [
    {
     "data": {
      "text/html": [
       "<div>\n",
       "<style scoped>\n",
       "    .dataframe tbody tr th:only-of-type {\n",
       "        vertical-align: middle;\n",
       "    }\n",
       "\n",
       "    .dataframe tbody tr th {\n",
       "        vertical-align: top;\n",
       "    }\n",
       "\n",
       "    .dataframe thead th {\n",
       "        text-align: right;\n",
       "    }\n",
       "</style>\n",
       "<table border=\"1\" class=\"dataframe\">\n",
       "  <thead>\n",
       "    <tr style=\"text-align: right;\">\n",
       "      <th></th>\n",
       "      <th></th>\n",
       "      <th>|Ti|</th>\n",
       "      <th>p(Ti)</th>\n",
       "      <th>p0(Ti)</th>\n",
       "      <th>s(Ti)</th>\n",
       "    </tr>\n",
       "    <tr>\n",
       "      <th>Dataset</th>\n",
       "      <th>Triad (Ti)</th>\n",
       "      <th></th>\n",
       "      <th></th>\n",
       "      <th></th>\n",
       "      <th></th>\n",
       "    </tr>\n",
       "  </thead>\n",
       "  <tbody>\n",
       "    <tr>\n",
       "      <th rowspan=\"4\" valign=\"top\">Bitcoin Alpha</th>\n",
       "      <th>T3 +++</th>\n",
       "      <td>98349</td>\n",
       "      <td>0.841</td>\n",
       "      <td>0.806</td>\n",
       "      <td>30.9</td>\n",
       "    </tr>\n",
       "    <tr>\n",
       "      <th>T2 ++-</th>\n",
       "      <td>13634</td>\n",
       "      <td>0.117</td>\n",
       "      <td>0.18</td>\n",
       "      <td>-56.7</td>\n",
       "    </tr>\n",
       "    <tr>\n",
       "      <th>T1 +--</th>\n",
       "      <td>4590</td>\n",
       "      <td>0.039</td>\n",
       "      <td>0.014</td>\n",
       "      <td>75.1</td>\n",
       "    </tr>\n",
       "    <tr>\n",
       "      <th>T0 ---</th>\n",
       "      <td>331</td>\n",
       "      <td>0.003</td>\n",
       "      <td>0</td>\n",
       "      <td>48.3</td>\n",
       "    </tr>\n",
       "    <tr>\n",
       "      <th rowspan=\"4\" valign=\"top\">Bitcoin OTC</th>\n",
       "      <th>T3 +++</th>\n",
       "      <td>135845</td>\n",
       "      <td>0.826</td>\n",
       "      <td>0.724</td>\n",
       "      <td>92.8</td>\n",
       "    </tr>\n",
       "    <tr>\n",
       "      <th>T2 ++-</th>\n",
       "      <td>16868</td>\n",
       "      <td>0.103</td>\n",
       "      <td>0.247</td>\n",
       "      <td>-135.9</td>\n",
       "    </tr>\n",
       "    <tr>\n",
       "      <th>T1 +--</th>\n",
       "      <td>11095</td>\n",
       "      <td>0.067</td>\n",
       "      <td>0.028</td>\n",
       "      <td>95.9</td>\n",
       "    </tr>\n",
       "    <tr>\n",
       "      <th>T0 ---</th>\n",
       "      <td>659</td>\n",
       "      <td>0.004</td>\n",
       "      <td>0.001</td>\n",
       "      <td>39.5</td>\n",
       "    </tr>\n",
       "  </tbody>\n",
       "</table>\n",
       "</div>"
      ],
      "text/plain": [
       "                            |Ti|  p(Ti) p0(Ti)  s(Ti)\n",
       "Dataset       Triad (Ti)                             \n",
       "Bitcoin Alpha T3 +++       98349  0.841  0.806   30.9\n",
       "              T2 ++-       13634  0.117   0.18  -56.7\n",
       "              T1 +--        4590  0.039  0.014   75.1\n",
       "              T0 ---         331  0.003      0   48.3\n",
       "Bitcoin OTC   T3 +++      135845  0.826  0.724   92.8\n",
       "              T2 ++-       16868  0.103  0.247 -135.9\n",
       "              T1 +--       11095  0.067  0.028   95.9\n",
       "              T0 ---         659  0.004  0.001   39.5"
      ]
     },
     "execution_count": 49,
     "metadata": {},
     "output_type": "execute_result"
    }
   ],
   "source": [
    "compare_table"
   ]
  },
  {
   "cell_type": "markdown",
   "metadata": {},
   "source": [
    "As seen, the T3 types are slightly over-presented (**by 1 and 13 percent**) while the T2 types are under-presented (**by 27 and 59 percent**). This means that if we want to estimate the outcome of a future trade, just by shuffling the signs of the current edges *(while preserving the ratio of positive and negative edges)* we are likely to identify the triad containing the trade as a **++-** while we are less likely to identify it as a **+++** compared to the actual outcome of the future trade. As the **++-** triads are undesirable (*resulting in bad experience of two users who had already been trusted by others*), over-estimating them by a trade suggestion engine helps **saving the good reputation of the platform but at the cost of a possible successful trade**."
   ]
  },
  {
   "cell_type": "markdown",
   "metadata": {},
   "source": [
    "## 5. Rating-Based Grouping\n",
    "### 5.1. Filtering DataFrame according to ratings\n",
    "To study the effects of the **rating value** *(and not just its sign)* on the results, we filter out the not so -negative or -positive values. The idea is that weak positive and weak negative ratings may affect the performance as they do not represent strong feelings but are treated like them by the process if not filtered out. To do so, the **Bitcoin Alpha** and **Bitcoin OTC** DataFrames are filtered such that **Rating > 3 or Rating < -3**:"
   ]
  },
  {
   "cell_type": "code",
   "execution_count": 50,
   "metadata": {},
   "outputs": [],
   "source": [
    "# filtering out weak opinions for Bitcoin Alpha Dataset\n",
    "Bitcoinalpha_df_filtered = Bitcoinalpha_df[(Bitcoinalpha_df[\"Rating\"] > 3) | (Bitcoinalpha_df[\"Rating\"] < -3)]\n",
    "Bitcoinalpha_df_filtered.reset_index(drop=True, inplace=True)\n",
    "\n",
    "# filtering out weak opinions for Bitcoin OTC Dataset\n",
    "Bitcoinotc_df_filtered = Bitcoinotc_df[(Bitcoinotc_df[\"Rating\"] > 3) | (Bitcoinotc_df[\"Rating\"] < -3)]\n",
    "Bitcoinotc_df_filtered.reset_index(drop=True, inplace=True)"
   ]
  },
  {
   "cell_type": "markdown",
   "metadata": {},
   "source": [
    "Now, let's take a look at the filtered DataFrames:"
   ]
  },
  {
   "cell_type": "code",
   "execution_count": 51,
   "metadata": {},
   "outputs": [
    {
     "data": {
      "text/html": [
       "<div>\n",
       "<style scoped>\n",
       "    .dataframe tbody tr th:only-of-type {\n",
       "        vertical-align: middle;\n",
       "    }\n",
       "\n",
       "    .dataframe tbody tr th {\n",
       "        vertical-align: top;\n",
       "    }\n",
       "\n",
       "    .dataframe thead th {\n",
       "        text-align: right;\n",
       "    }\n",
       "</style>\n",
       "<table border=\"1\" class=\"dataframe\">\n",
       "  <thead>\n",
       "    <tr style=\"text-align: right;\">\n",
       "      <th></th>\n",
       "      <th>Source</th>\n",
       "      <th>Target</th>\n",
       "      <th>Rating</th>\n",
       "      <th>Time</th>\n",
       "    </tr>\n",
       "  </thead>\n",
       "  <tbody>\n",
       "    <tr>\n",
       "      <th>0</th>\n",
       "      <td>888</td>\n",
       "      <td>1</td>\n",
       "      <td>10</td>\n",
       "      <td>1365652800</td>\n",
       "    </tr>\n",
       "    <tr>\n",
       "      <th>1</th>\n",
       "      <td>89</td>\n",
       "      <td>1</td>\n",
       "      <td>4</td>\n",
       "      <td>1351742400</td>\n",
       "    </tr>\n",
       "    <tr>\n",
       "      <th>2</th>\n",
       "      <td>161</td>\n",
       "      <td>1</td>\n",
       "      <td>4</td>\n",
       "      <td>1413345600</td>\n",
       "    </tr>\n",
       "    <tr>\n",
       "      <th>3</th>\n",
       "      <td>649</td>\n",
       "      <td>1</td>\n",
       "      <td>-10</td>\n",
       "      <td>1384491600</td>\n",
       "    </tr>\n",
       "    <tr>\n",
       "      <th>4</th>\n",
       "      <td>821</td>\n",
       "      <td>1</td>\n",
       "      <td>-10</td>\n",
       "      <td>1368676800</td>\n",
       "    </tr>\n",
       "    <tr>\n",
       "      <th>...</th>\n",
       "      <td>...</td>\n",
       "      <td>...</td>\n",
       "      <td>...</td>\n",
       "      <td>...</td>\n",
       "    </tr>\n",
       "    <tr>\n",
       "      <th>3816</th>\n",
       "      <td>7553</td>\n",
       "      <td>7565</td>\n",
       "      <td>7</td>\n",
       "      <td>1346990400</td>\n",
       "    </tr>\n",
       "    <tr>\n",
       "      <th>3817</th>\n",
       "      <td>7570</td>\n",
       "      <td>7564</td>\n",
       "      <td>-10</td>\n",
       "      <td>1307160000</td>\n",
       "    </tr>\n",
       "    <tr>\n",
       "      <th>3818</th>\n",
       "      <td>7602</td>\n",
       "      <td>7598</td>\n",
       "      <td>10</td>\n",
       "      <td>1364270400</td>\n",
       "    </tr>\n",
       "    <tr>\n",
       "      <th>3819</th>\n",
       "      <td>7599</td>\n",
       "      <td>7600</td>\n",
       "      <td>5</td>\n",
       "      <td>1364270400</td>\n",
       "    </tr>\n",
       "    <tr>\n",
       "      <th>3820</th>\n",
       "      <td>7604</td>\n",
       "      <td>7602</td>\n",
       "      <td>-10</td>\n",
       "      <td>1364270400</td>\n",
       "    </tr>\n",
       "  </tbody>\n",
       "</table>\n",
       "<p>3821 rows × 4 columns</p>\n",
       "</div>"
      ],
      "text/plain": [
       "      Source  Target  Rating        Time\n",
       "0        888       1      10  1365652800\n",
       "1         89       1       4  1351742400\n",
       "2        161       1       4  1413345600\n",
       "3        649       1     -10  1384491600\n",
       "4        821       1     -10  1368676800\n",
       "...      ...     ...     ...         ...\n",
       "3816    7553    7565       7  1346990400\n",
       "3817    7570    7564     -10  1307160000\n",
       "3818    7602    7598      10  1364270400\n",
       "3819    7599    7600       5  1364270400\n",
       "3820    7604    7602     -10  1364270400\n",
       "\n",
       "[3821 rows x 4 columns]"
      ]
     },
     "execution_count": 51,
     "metadata": {},
     "output_type": "execute_result"
    }
   ],
   "source": [
    "Bitcoinalpha_df_filtered"
   ]
  },
  {
   "cell_type": "code",
   "execution_count": 52,
   "metadata": {},
   "outputs": [
    {
     "data": {
      "text/html": [
       "<div>\n",
       "<style scoped>\n",
       "    .dataframe tbody tr th:only-of-type {\n",
       "        vertical-align: middle;\n",
       "    }\n",
       "\n",
       "    .dataframe tbody tr th {\n",
       "        vertical-align: top;\n",
       "    }\n",
       "\n",
       "    .dataframe thead th {\n",
       "        text-align: right;\n",
       "    }\n",
       "</style>\n",
       "<table border=\"1\" class=\"dataframe\">\n",
       "  <thead>\n",
       "    <tr style=\"text-align: right;\">\n",
       "      <th></th>\n",
       "      <th>Source</th>\n",
       "      <th>Target</th>\n",
       "      <th>Rating</th>\n",
       "      <th>Time</th>\n",
       "    </tr>\n",
       "  </thead>\n",
       "  <tbody>\n",
       "    <tr>\n",
       "      <th>0</th>\n",
       "      <td>1</td>\n",
       "      <td>15</td>\n",
       "      <td>4</td>\n",
       "      <td>1.289243e+09</td>\n",
       "    </tr>\n",
       "    <tr>\n",
       "      <th>1</th>\n",
       "      <td>4</td>\n",
       "      <td>3</td>\n",
       "      <td>7</td>\n",
       "      <td>1.289245e+09</td>\n",
       "    </tr>\n",
       "    <tr>\n",
       "      <th>2</th>\n",
       "      <td>13</td>\n",
       "      <td>10</td>\n",
       "      <td>4</td>\n",
       "      <td>1.289254e+09</td>\n",
       "    </tr>\n",
       "    <tr>\n",
       "      <th>3</th>\n",
       "      <td>21</td>\n",
       "      <td>3</td>\n",
       "      <td>-10</td>\n",
       "      <td>1.289442e+09</td>\n",
       "    </tr>\n",
       "    <tr>\n",
       "      <th>4</th>\n",
       "      <td>10</td>\n",
       "      <td>6</td>\n",
       "      <td>10</td>\n",
       "      <td>1.289556e+09</td>\n",
       "    </tr>\n",
       "    <tr>\n",
       "      <th>...</th>\n",
       "      <td>...</td>\n",
       "      <td>...</td>\n",
       "      <td>...</td>\n",
       "      <td>...</td>\n",
       "    </tr>\n",
       "    <tr>\n",
       "      <th>6542</th>\n",
       "      <td>1731</td>\n",
       "      <td>2388</td>\n",
       "      <td>10</td>\n",
       "      <td>1.451899e+09</td>\n",
       "    </tr>\n",
       "    <tr>\n",
       "      <th>6543</th>\n",
       "      <td>35</td>\n",
       "      <td>6005</td>\n",
       "      <td>-10</td>\n",
       "      <td>1.451906e+09</td>\n",
       "    </tr>\n",
       "    <tr>\n",
       "      <th>6544</th>\n",
       "      <td>5928</td>\n",
       "      <td>1396</td>\n",
       "      <td>4</td>\n",
       "      <td>1.452382e+09</td>\n",
       "    </tr>\n",
       "    <tr>\n",
       "      <th>6545</th>\n",
       "      <td>1018</td>\n",
       "      <td>2124</td>\n",
       "      <td>5</td>\n",
       "      <td>1.452553e+09</td>\n",
       "    </tr>\n",
       "    <tr>\n",
       "      <th>6546</th>\n",
       "      <td>4608</td>\n",
       "      <td>13</td>\n",
       "      <td>-10</td>\n",
       "      <td>1.453313e+09</td>\n",
       "    </tr>\n",
       "  </tbody>\n",
       "</table>\n",
       "<p>6547 rows × 4 columns</p>\n",
       "</div>"
      ],
      "text/plain": [
       "      Source  Target  Rating          Time\n",
       "0          1      15       4  1.289243e+09\n",
       "1          4       3       7  1.289245e+09\n",
       "2         13      10       4  1.289254e+09\n",
       "3         21       3     -10  1.289442e+09\n",
       "4         10       6      10  1.289556e+09\n",
       "...      ...     ...     ...           ...\n",
       "6542    1731    2388      10  1.451899e+09\n",
       "6543      35    6005     -10  1.451906e+09\n",
       "6544    5928    1396       4  1.452382e+09\n",
       "6545    1018    2124       5  1.452553e+09\n",
       "6546    4608      13     -10  1.453313e+09\n",
       "\n",
       "[6547 rows x 4 columns]"
      ]
     },
     "execution_count": 52,
     "metadata": {},
     "output_type": "execute_result"
    }
   ],
   "source": [
    "Bitcoinotc_df_filtered"
   ]
  },
  {
   "cell_type": "markdown",
   "metadata": {},
   "source": [
    "### 5.2. Creating a directed graph from the dataset\n",
    "Now a directed graph is created from the resulted filtered DataFrame. The ratings are assigned to the generated edges as **edge attributes**. "
   ]
  },
  {
   "cell_type": "code",
   "execution_count": 53,
   "metadata": {},
   "outputs": [],
   "source": [
    "# Bitcoin Alpha Dataset\n",
    "G_Bitcoinalpha_df_filtered = nx.from_pandas_edgelist(\n",
    "    Bitcoinalpha_df_filtered, 'Source', 'Target', edge_attr='Rating', create_using=nx.DiGraph())\n",
    "\n",
    "# Bitcoin OTC Dataset\n",
    "G_Bitcoinotc_df_filtered = nx.from_pandas_edgelist(\n",
    "    Bitcoinotc_df_filtered, 'Source', 'Target', edge_attr='Rating', create_using=nx.DiGraph())"
   ]
  },
  {
   "cell_type": "markdown",
   "metadata": {},
   "source": [
    "### 5.3. Counting the triads in the dataset graph\n",
    "With the directed graph all generated, it's time to extract all the triads in the generated graph. The *triadic_census* command counts all the 16 triad types in the given graph."
   ]
  },
  {
   "cell_type": "code",
   "execution_count": 54,
   "metadata": {},
   "outputs": [],
   "source": [
    "Bitcoinalpha_triads_filtered = nx.algorithms.triads.triadic_census(G_Bitcoinalpha_df_filtered)\n",
    "Bitcoinotc_triads_filtered = nx.algorithms.triads.triadic_census(G_Bitcoinotc_df_filtered)"
   ]
  },
  {
   "cell_type": "code",
   "execution_count": 55,
   "metadata": {},
   "outputs": [
    {
     "name": "stdout",
     "output_type": "stream",
     "text": [
      "Number of triads in the filtered Bitcoin Alpha dataset:  399\n",
      "Number of triads in the filtered Bitcoin OTC dataset:  843\n"
     ]
    }
   ],
   "source": [
    "Bitcoinalpha_no_triads_filtered = 0\n",
    "Bitcoinotc_no_triads_filtered = 0\n",
    "\n",
    "for triad_type in triad_list:\n",
    "    Bitcoinalpha_no_triads_filtered += Bitcoinalpha_triads_filtered[triad_type]\n",
    "    Bitcoinotc_no_triads_filtered += Bitcoinotc_triads_filtered[triad_type]\n",
    "\n",
    "print(\"Number of triads in the filtered Bitcoin Alpha dataset: \", Bitcoinalpha_no_triads_filtered)\n",
    "print(\"Number of triads in the filtered Bitcoin OTC dataset: \", Bitcoinotc_no_triads_filtered)"
   ]
  },
  {
   "cell_type": "markdown",
   "metadata": {},
   "source": [
    "It shall be noted that triad types other than **030T** and **030C** are actually representative of more than a single triad. Triad types **120D**, **120U**, and **120C** are representative of **two 3-edge triads** as there are two edges between a pair of nodes in those triad types. For the **210 type**, two edges exist between two pairs of nodes which means four 3-edge triads. Finally, for **300 type**, two edges exist between all node pairs which represents eight 3-edge triads.\n",
    "\n",
    "**So, to calculate the total number of triads, we multiply the number of each triad type by the number of representative 3-edge triads and then sum the up together.**"
   ]
  },
  {
   "cell_type": "code",
   "execution_count": 56,
   "metadata": {},
   "outputs": [
    {
     "name": "stdout",
     "output_type": "stream",
     "text": [
      "Total number of triads in the filtered Bitcoin Alpha dataset:  512\n",
      "Total number of triads in the filtered Bitcoin OTC dataset:  1110\n"
     ]
    }
   ],
   "source": [
    "Bitcoinalpha_total_triads_filtered = 0\n",
    "Bitcoinotc_total_triads_filtered = 0\n",
    "\n",
    "for key in triad_list_dic:\n",
    "    Bitcoinalpha_total_triads_filtered += Bitcoinalpha_triads_filtered[key] * triad_list_dic[key]\n",
    "    Bitcoinotc_total_triads_filtered += Bitcoinotc_triads_filtered[key] * triad_list_dic[key]\n",
    "\n",
    "print(\"Total number of triads in the filtered Bitcoin Alpha dataset: \", Bitcoinalpha_total_triads_filtered)\n",
    "print(\"Total number of triads in the filtered Bitcoin OTC dataset: \", Bitcoinotc_total_triads_filtered)"
   ]
  },
  {
   "cell_type": "markdown",
   "metadata": {},
   "source": [
    "The number of triads are **drastically decreased using the filter**. It shows that in most of the trades, *not a great trust or distrust is formed in between the traders.*"
   ]
  },
  {
   "cell_type": "markdown",
   "metadata": {},
   "source": [
    "### 5.4. Extracting triad nodes\n",
    "No, we need the data for the nodes included in each of those triads.\n",
    "\n",
    "**An empty DataFrame is filled up with all the nodes of the 3-rd degree cliques (triad)**."
   ]
  },
  {
   "cell_type": "code",
   "execution_count": 57,
   "metadata": {},
   "outputs": [],
   "source": [
    "# creating an undirected graph to be used\n",
    "UG_Bitcoinalpha_df_filtered = G_Bitcoinalpha_df_filtered.to_undirected()\n",
    "UG_Bitcoinotc_df_filtered = G_Bitcoinotc_df_filtered.to_undirected()\n",
    "\n",
    "# iterator over the cliques in an undirected graph\n",
    "all_cliques_Bitcoinalpha_filtered = nx.enumerate_all_cliques(UG_Bitcoinalpha_df_filtered)\n",
    "all_cliques_Bitcoinotc_filtered = nx.enumerate_all_cliques(UG_Bitcoinotc_df_filtered)\n",
    "# creating an empry DataFrame to be filled up with node data of triads\n",
    "df_triads_Bitcoinalpha_filtered = pd.DataFrame(0, index=np.arange(Bitcoinalpha_no_triads_filtered), columns=['Node 1', 'Node 2', 'Node 3'])\n",
    "df_triads_Bitcoinotc_filtered = pd.DataFrame(0, index=np.arange(Bitcoinotc_no_triads_filtered), columns=['Node 1', 'Node 2', 'Node 3'])\n",
    "\n",
    "idx = 0  # row counter\n",
    "for x in all_cliques_Bitcoinalpha_filtered:  # iterate through all cliques\n",
    "    if len(x) == 3:  # if it is a triad\n",
    "        for i in np.arange(3):  # go through all its nodes\n",
    "            df_triads_Bitcoinalpha_filtered.iat[idx, i] = int(x[i])  # and write those nodes to its relative location in DataFrame\n",
    "        idx += 1  # increment up the row number\n",
    "    elif len(x) > 3:  # all triads are covered?\n",
    "        break  # finish it up!\n",
    "\n",
    "idx = 0  # row counter\n",
    "for x in all_cliques_Bitcoinotc_filtered:  # iterate through all cliques\n",
    "    if len(x) == 3:  # if it is a triad\n",
    "        for i in np.arange(3):  # go through all its nodes\n",
    "            df_triads_Bitcoinotc_filtered.iat[idx, i] = int(x[i])  # and write those nodes to its relative location in DataFrame\n",
    "        idx += 1  # increment up the row number\n",
    "    elif len(x) > 3:  # all triads are covered?\n",
    "        break  # finish it up!"
   ]
  },
  {
   "cell_type": "markdown",
   "metadata": {},
   "source": [
    "### 5.5. Appending the corresponding columns for the number of triad types\n",
    "Four columns of **+++**, **++-**, **+--**, and **---** are appended to the triads DataFrame so to keep the number of each triad type in them."
   ]
  },
  {
   "cell_type": "code",
   "execution_count": 58,
   "metadata": {},
   "outputs": [],
   "source": [
    "df_triads_Bitcoinalpha_filtered[\"+++\"] , df_triads_Bitcoinalpha_filtered[\"++-\"], df_triads_Bitcoinalpha_filtered[\"+--\"], df_triads_Bitcoinalpha_filtered[\"---\"] = [0, 0, 0, 0]\n",
    "df_triads_Bitcoinotc_filtered[\"+++\"] , df_triads_Bitcoinotc_filtered[\"++-\"], df_triads_Bitcoinotc_filtered[\"+--\"], df_triads_Bitcoinotc_filtered[\"---\"] = [0, 0, 0, 0]"
   ]
  },
  {
   "cell_type": "markdown",
   "metadata": {},
   "source": [
    "### 5.6. Counting the number of triad types\n",
    "The number of each triad type is counted for the **shuffled** graph and then the corresponding DataFrame is filled up."
   ]
  },
  {
   "cell_type": "code",
   "execution_count": 59,
   "metadata": {},
   "outputs": [],
   "source": [
    "df_triads_Bitcoinalpha_filtered = triad_type_counter(df_triads_Bitcoinalpha_filtered, G_Bitcoinalpha_df_filtered)\n",
    "df_triads_Bitcoinotc_filtered = triad_type_counter(df_triads_Bitcoinotc_filtered, G_Bitcoinotc_df_filtered)"
   ]
  },
  {
   "cell_type": "markdown",
   "metadata": {},
   "source": [
    "Now it's time to take a look into the extracted number of the triad types:"
   ]
  },
  {
   "cell_type": "code",
   "execution_count": 60,
   "metadata": {},
   "outputs": [
    {
     "data": {
      "text/plain": [
       "+++    209\n",
       "++-    205\n",
       "+--     89\n",
       "---      9\n",
       "dtype: object"
      ]
     },
     "execution_count": 60,
     "metadata": {},
     "output_type": "execute_result"
    }
   ],
   "source": [
    "df_triads_Bitcoinalpha_filtered.sum()[[\"+++\", \"++-\", \"+--\", \"---\"]]"
   ]
  },
  {
   "cell_type": "code",
   "execution_count": 61,
   "metadata": {},
   "outputs": [
    {
     "data": {
      "text/plain": [
       "+++    219\n",
       "++-    474\n",
       "+--    351\n",
       "---     66\n",
       "dtype: object"
      ]
     },
     "execution_count": 61,
     "metadata": {},
     "output_type": "execute_result"
    }
   ],
   "source": [
    "df_triads_Bitcoinotc_filtered.sum()[[\"+++\", \"++-\", \"+--\", \"---\"]]"
   ]
  },
  {
   "cell_type": "markdown",
   "metadata": {},
   "source": [
    "### 5.7. Creating a shuffled graph\n",
    "A shuffled graph is generated at this stage based on the original graph. The **connectivities are preserved**, and the **sign of the edges are just shuffled** while **keeping the distribution of positive and negative signs**."
   ]
  },
  {
   "cell_type": "code",
   "execution_count": 62,
   "metadata": {},
   "outputs": [
    {
     "name": "stderr",
     "output_type": "stream",
     "text": [
      "C:\\Users\\ArashAskari\\anaconda3-new\\lib\\site-packages\\ipykernel_launcher.py:2: SettingWithCopyWarning: \n",
      "A value is trying to be set on a copy of a slice from a DataFrame.\n",
      "Try using .loc[row_indexer,col_indexer] = value instead\n",
      "\n",
      "See the caveats in the documentation: https://pandas.pydata.org/pandas-docs/stable/user_guide/indexing.html#returning-a-view-versus-a-copy\n",
      "  \n",
      "C:\\Users\\ArashAskari\\anaconda3-new\\lib\\site-packages\\ipykernel_launcher.py:3: SettingWithCopyWarning: \n",
      "A value is trying to be set on a copy of a slice from a DataFrame.\n",
      "Try using .loc[row_indexer,col_indexer] = value instead\n",
      "\n",
      "See the caveats in the documentation: https://pandas.pydata.org/pandas-docs/stable/user_guide/indexing.html#returning-a-view-versus-a-copy\n",
      "  This is separate from the ipykernel package so we can avoid doing imports until\n"
     ]
    }
   ],
   "source": [
    "# shuffling the edge signs and storing the in a new column\n",
    "Bitcoinalpha_df_filtered['Rating'] = np.random.permutation(Bitcoinalpha_df_filtered[\"Rating\"].values)\n",
    "Bitcoinotc_df_filtered['Rating'] = np.random.permutation(Bitcoinotc_df_filtered[\"Rating\"].values)"
   ]
  },
  {
   "cell_type": "code",
   "execution_count": 63,
   "metadata": {},
   "outputs": [],
   "source": [
    "# creating a directed graph of the shuffled signs\n",
    "G_Bitcoinalpha_shuffled_df_filtered = nx.from_pandas_edgelist(\n",
    "    Bitcoinalpha_df_filtered, 'Source', 'Target', edge_attr='Rating', create_using=nx.DiGraph())\n",
    "G_Bitcoinotc_shuffled_df_filtered = nx.from_pandas_edgelist(\n",
    "    Bitcoinotc_df_filtered, 'Source', 'Target', edge_attr='Rating', create_using=nx.DiGraph())"
   ]
  },
  {
   "cell_type": "code",
   "execution_count": 64,
   "metadata": {},
   "outputs": [],
   "source": [
    "# creating a deep copy of the original triad DataFrame to keep the number of triad types for shuffled graph\n",
    "df_triads_shuffle_Bitcoinalpha_filtered = df_triads_Bitcoinalpha_filtered.copy(deep=True)\n",
    "df_triads_shuffle_Bitcoinalpha_filtered[[\"+++\", \"++-\", \"+--\", \"---\"]] = [0, 0, 0, 0]\n",
    "\n",
    "df_triads_shuffle_Bitcoinotc_filtered = df_triads_Bitcoinotc_filtered.copy(deep=True)\n",
    "df_triads_shuffle_Bitcoinotc_filtered[[\"+++\", \"++-\", \"+--\", \"---\"]] = [0, 0, 0, 0]"
   ]
  },
  {
   "cell_type": "markdown",
   "metadata": {},
   "source": [
    "### 5.8. Counting the number of graph types in the shuffled graph\n",
    "The number of each triad type is counted for the **shuffled graph** and then the corresponding DataFrame is filled up."
   ]
  },
  {
   "cell_type": "code",
   "execution_count": 65,
   "metadata": {},
   "outputs": [],
   "source": [
    "df_triads_shuffle_Bitcoinalpha_filtered = triad_type_counter(df_triads_shuffle_Bitcoinalpha_filtered, G_Bitcoinalpha_shuffled_df_filtered)\n",
    "df_triads_shuffle_Bitcoinotc_filtered = triad_type_counter(df_triads_shuffle_Bitcoinotc_filtered, G_Bitcoinotc_shuffled_df_filtered)"
   ]
  },
  {
   "cell_type": "markdown",
   "metadata": {},
   "source": [
    "Now it's time to take a look into the extracted number of the triad types:"
   ]
  },
  {
   "cell_type": "code",
   "execution_count": 66,
   "metadata": {
    "scrolled": true
   },
   "outputs": [
    {
     "data": {
      "text/plain": [
       "+++    228\n",
       "++-    210\n",
       "+--     65\n",
       "---      9\n",
       "dtype: object"
      ]
     },
     "execution_count": 66,
     "metadata": {},
     "output_type": "execute_result"
    }
   ],
   "source": [
    "df_triads_shuffle_Bitcoinalpha_filtered.sum()[[\"+++\", \"++-\", \"+--\", \"---\"]]"
   ]
  },
  {
   "cell_type": "code",
   "execution_count": 67,
   "metadata": {},
   "outputs": [
    {
     "data": {
      "text/plain": [
       "+++    207\n",
       "++-    468\n",
       "+--    361\n",
       "---     74\n",
       "dtype: object"
      ]
     },
     "execution_count": 67,
     "metadata": {},
     "output_type": "execute_result"
    }
   ],
   "source": [
    "df_triads_shuffle_Bitcoinotc_filtered.sum()[[\"+++\", \"++-\", \"+--\", \"---\"]]"
   ]
  },
  {
   "cell_type": "markdown",
   "metadata": {},
   "source": [
    "### 5.7. Comparing the Number of Triads in the Original and Shuffled Graph (Filtered Ratings)\n",
    "We have generated a shuffled version of the original filtered graph by preserving the ratio of the positive and negative nodes. By comparing the number of triad types in each of the **original** and **shuffled** graph, we may find if a certain type of graph is over- or under- represented in our data compared to the randomly generated graph."
   ]
  },
  {
   "cell_type": "code",
   "execution_count": 68,
   "metadata": {},
   "outputs": [],
   "source": [
    "compare_table_filtered = compare_table.copy(deep=True)"
   ]
  },
  {
   "cell_type": "markdown",
   "metadata": {},
   "source": [
    "Now let's fill up the epmty DataFrame with the corresponding values:"
   ]
  },
  {
   "cell_type": "code",
   "execution_count": 69,
   "metadata": {},
   "outputs": [],
   "source": [
    "compare_table_filtered.loc[('Bitcoin Alpha', 'T3 +++')] = [df_triads_Bitcoinalpha_filtered.sum()[[\"+++\"]][0], \n",
    "                                   round((df_triads_Bitcoinalpha_filtered.sum()[[\"+++\"]][0])/Bitcoinalpha_total_triads_filtered, 3), \n",
    "                                   round((df_triads_shuffle_Bitcoinalpha_filtered.sum()[[\"+++\"]][0])/Bitcoinalpha_total_triads_filtered, 3), \n",
    "                                   round((df_triads_Bitcoinalpha_filtered.sum()[[\"+++\"]][0] - df_triads_shuffle_Bitcoinalpha_filtered.sum()[[\"+++\"]][0])/(np.sqrt((df_triads_shuffle_Bitcoinalpha_filtered.sum()[[\"+++\"]][0])*(1-(df_triads_shuffle_Bitcoinalpha_filtered.sum()[[\"+++\"]][0])/Bitcoinalpha_total_triads_filtered))), 1)]\n",
    "compare_table_filtered.loc[('Bitcoin Alpha', 'T2 ++-')] = [df_triads_Bitcoinalpha_filtered.sum()[[\"++-\"]][0], \n",
    "                                   round((df_triads_Bitcoinalpha_filtered.sum()[[\"++-\"]][0])/Bitcoinalpha_total_triads_filtered, 3), \n",
    "                                   round((df_triads_shuffle_Bitcoinalpha_filtered.sum()[[\"++-\"]][0])/Bitcoinalpha_total_triads_filtered, 3), \n",
    "                                   round((df_triads_Bitcoinalpha_filtered.sum()[[\"++-\"]][0] - df_triads_shuffle_Bitcoinalpha_filtered.sum()[[\"++-\"]][0])/(np.sqrt((df_triads_shuffle_Bitcoinalpha_filtered.sum()[[\"++-\"]][0])*(1-(df_triads_shuffle_Bitcoinalpha_filtered.sum()[[\"++-\"]][0])/Bitcoinalpha_total_triads_filtered))), 1)]\n",
    "compare_table_filtered.loc[('Bitcoin Alpha', 'T1 +--')] = [df_triads_Bitcoinalpha_filtered.sum()[[\"+--\"]][0], \n",
    "                                   round((df_triads_Bitcoinalpha_filtered.sum()[[\"+--\"]][0])/Bitcoinalpha_total_triads_filtered, 3), \n",
    "                                   round((df_triads_shuffle_Bitcoinalpha_filtered.sum()[[\"+--\"]][0])/Bitcoinalpha_total_triads_filtered, 3), \n",
    "                                   round((df_triads_Bitcoinalpha_filtered.sum()[[\"+--\"]][0] - df_triads_shuffle_Bitcoinalpha_filtered.sum()[[\"+--\"]][0])/(np.sqrt((df_triads_shuffle_Bitcoinalpha_filtered.sum()[[\"+--\"]][0])*(1-(df_triads_shuffle_Bitcoinalpha_filtered.sum()[[\"+--\"]][0])/Bitcoinalpha_total_triads_filtered))), 1)]\n",
    "compare_table_filtered.loc[('Bitcoin Alpha', 'T0 ---')] = [df_triads_Bitcoinalpha_filtered.sum()[[\"---\"]][0], \n",
    "                                   round((df_triads_Bitcoinalpha_filtered.sum()[[\"---\"]][0])/Bitcoinalpha_total_triads_filtered, 3), \n",
    "                                   round((df_triads_shuffle_Bitcoinalpha_filtered.sum()[[\"---\"]][0])/Bitcoinalpha_total_triads_filtered, 3), \n",
    "                                   round((df_triads_Bitcoinalpha_filtered.sum()[[\"---\"]][0] - df_triads_shuffle_Bitcoinalpha_filtered.sum()[[\"---\"]][0])/(np.sqrt((df_triads_shuffle_Bitcoinalpha_filtered.sum()[[\"---\"]][0])*(1-(df_triads_shuffle_Bitcoinalpha_filtered.sum()[[\"---\"]][0])/Bitcoinalpha_total_triads_filtered))), 1)]"
   ]
  },
  {
   "cell_type": "code",
   "execution_count": 70,
   "metadata": {},
   "outputs": [],
   "source": [
    "compare_table_filtered.loc[('Bitcoin OTC', 'T3 +++')] = [df_triads_Bitcoinotc_filtered.sum()[[\"+++\"]][0], \n",
    "                                   round((df_triads_Bitcoinotc_filtered.sum()[[\"+++\"]][0])/Bitcoinotc_total_triads_filtered, 3), \n",
    "                                   round((df_triads_shuffle_Bitcoinotc_filtered.sum()[[\"+++\"]][0])/Bitcoinotc_total_triads_filtered, 3), \n",
    "                                   round((df_triads_Bitcoinotc_filtered.sum()[[\"+++\"]][0] - df_triads_shuffle_Bitcoinotc_filtered.sum()[[\"+++\"]][0])/(np.sqrt((df_triads_shuffle_Bitcoinotc_filtered.sum()[[\"+++\"]][0])*(1-(df_triads_shuffle_Bitcoinotc_filtered.sum()[[\"+++\"]][0])/Bitcoinotc_total_triads_filtered))), 1)]\n",
    "compare_table_filtered.loc[('Bitcoin OTC', 'T2 ++-')] = [df_triads_Bitcoinotc_filtered.sum()[[\"++-\"]][0], \n",
    "                                   round((df_triads_Bitcoinotc_filtered.sum()[[\"++-\"]][0])/Bitcoinotc_total_triads_filtered, 3), \n",
    "                                   round((df_triads_shuffle_Bitcoinotc_filtered.sum()[[\"++-\"]][0])/Bitcoinotc_total_triads_filtered, 3), \n",
    "                                   round((df_triads_Bitcoinotc_filtered.sum()[[\"++-\"]][0] - df_triads_shuffle_Bitcoinotc_filtered.sum()[[\"++-\"]][0])/(np.sqrt((df_triads_shuffle_Bitcoinotc_filtered.sum()[[\"++-\"]][0])*(1-(df_triads_shuffle_Bitcoinotc_filtered.sum()[[\"++-\"]][0])/Bitcoinotc_total_triads_filtered))), 1)]\n",
    "compare_table_filtered.loc[('Bitcoin OTC', 'T1 +--')] = [df_triads_Bitcoinotc_filtered.sum()[[\"+--\"]][0], \n",
    "                                   round((df_triads_Bitcoinotc_filtered.sum()[[\"+--\"]][0])/Bitcoinotc_total_triads_filtered, 3), \n",
    "                                   round((df_triads_shuffle_Bitcoinotc_filtered.sum()[[\"+--\"]][0])/Bitcoinotc_total_triads_filtered, 3), \n",
    "                                   round((df_triads_Bitcoinotc_filtered.sum()[[\"+--\"]][0] - df_triads_shuffle_Bitcoinotc_filtered.sum()[[\"+--\"]][0])/(np.sqrt((df_triads_shuffle_Bitcoinotc_filtered.sum()[[\"+--\"]][0])*(1-(df_triads_shuffle_Bitcoinotc_filtered.sum()[[\"+--\"]][0])/Bitcoinotc_total_triads_filtered))), 1)]\n",
    "compare_table_filtered.loc[('Bitcoin OTC', 'T0 ---')] = [df_triads_Bitcoinotc_filtered.sum()[[\"---\"]][0], \n",
    "                                   round((df_triads_Bitcoinotc_filtered.sum()[[\"---\"]][0])/Bitcoinotc_total_triads_filtered, 3), \n",
    "                                   round((df_triads_shuffle_Bitcoinotc_filtered.sum()[[\"---\"]][0])/Bitcoinotc_total_triads_filtered, 3), \n",
    "                                   round((df_triads_Bitcoinotc_filtered.sum()[[\"---\"]][0] - df_triads_shuffle_Bitcoinotc_filtered.sum()[[\"---\"]][0])/(np.sqrt((df_triads_shuffle_Bitcoinotc_filtered.sum()[[\"---\"]][0])*(1-(df_triads_shuffle_Bitcoinotc_filtered.sum()[[\"---\"]][0])/Bitcoinotc_total_triads_filtered))), 1)]"
   ]
  },
  {
   "cell_type": "markdown",
   "metadata": {},
   "source": [
    "Now, let's take a look into the comparison of the distribution of triad types in **original** and **shuffled** graphs for the **filtered data**."
   ]
  },
  {
   "cell_type": "code",
   "execution_count": 71,
   "metadata": {},
   "outputs": [
    {
     "data": {
      "text/html": [
       "<div>\n",
       "<style scoped>\n",
       "    .dataframe tbody tr th:only-of-type {\n",
       "        vertical-align: middle;\n",
       "    }\n",
       "\n",
       "    .dataframe tbody tr th {\n",
       "        vertical-align: top;\n",
       "    }\n",
       "\n",
       "    .dataframe thead th {\n",
       "        text-align: right;\n",
       "    }\n",
       "</style>\n",
       "<table border=\"1\" class=\"dataframe\">\n",
       "  <thead>\n",
       "    <tr style=\"text-align: right;\">\n",
       "      <th></th>\n",
       "      <th></th>\n",
       "      <th>|Ti|</th>\n",
       "      <th>p(Ti)</th>\n",
       "      <th>p0(Ti)</th>\n",
       "      <th>s(Ti)</th>\n",
       "    </tr>\n",
       "    <tr>\n",
       "      <th>Dataset</th>\n",
       "      <th>Triad (Ti)</th>\n",
       "      <th></th>\n",
       "      <th></th>\n",
       "      <th></th>\n",
       "      <th></th>\n",
       "    </tr>\n",
       "  </thead>\n",
       "  <tbody>\n",
       "    <tr>\n",
       "      <th rowspan=\"4\" valign=\"top\">Bitcoin Alpha</th>\n",
       "      <th>T3 +++</th>\n",
       "      <td>209</td>\n",
       "      <td>0.408</td>\n",
       "      <td>0.445</td>\n",
       "      <td>-1.7</td>\n",
       "    </tr>\n",
       "    <tr>\n",
       "      <th>T2 ++-</th>\n",
       "      <td>205</td>\n",
       "      <td>0.4</td>\n",
       "      <td>0.41</td>\n",
       "      <td>-0.4</td>\n",
       "    </tr>\n",
       "    <tr>\n",
       "      <th>T1 +--</th>\n",
       "      <td>89</td>\n",
       "      <td>0.174</td>\n",
       "      <td>0.127</td>\n",
       "      <td>3.2</td>\n",
       "    </tr>\n",
       "    <tr>\n",
       "      <th>T0 ---</th>\n",
       "      <td>9</td>\n",
       "      <td>0.018</td>\n",
       "      <td>0.018</td>\n",
       "      <td>0</td>\n",
       "    </tr>\n",
       "    <tr>\n",
       "      <th rowspan=\"4\" valign=\"top\">Bitcoin OTC</th>\n",
       "      <th>T3 +++</th>\n",
       "      <td>219</td>\n",
       "      <td>0.197</td>\n",
       "      <td>0.186</td>\n",
       "      <td>0.9</td>\n",
       "    </tr>\n",
       "    <tr>\n",
       "      <th>T2 ++-</th>\n",
       "      <td>474</td>\n",
       "      <td>0.427</td>\n",
       "      <td>0.422</td>\n",
       "      <td>0.4</td>\n",
       "    </tr>\n",
       "    <tr>\n",
       "      <th>T1 +--</th>\n",
       "      <td>351</td>\n",
       "      <td>0.316</td>\n",
       "      <td>0.325</td>\n",
       "      <td>-0.6</td>\n",
       "    </tr>\n",
       "    <tr>\n",
       "      <th>T0 ---</th>\n",
       "      <td>66</td>\n",
       "      <td>0.059</td>\n",
       "      <td>0.067</td>\n",
       "      <td>-1</td>\n",
       "    </tr>\n",
       "  </tbody>\n",
       "</table>\n",
       "</div>"
      ],
      "text/plain": [
       "                         |Ti|  p(Ti) p0(Ti) s(Ti)\n",
       "Dataset       Triad (Ti)                         \n",
       "Bitcoin Alpha T3 +++      209  0.408  0.445  -1.7\n",
       "              T2 ++-      205    0.4   0.41  -0.4\n",
       "              T1 +--       89  0.174  0.127   3.2\n",
       "              T0 ---        9  0.018  0.018     0\n",
       "Bitcoin OTC   T3 +++      219  0.197  0.186   0.9\n",
       "              T2 ++-      474  0.427  0.422   0.4\n",
       "              T1 +--      351  0.316  0.325  -0.6\n",
       "              T0 ---       66  0.059  0.067    -1"
      ]
     },
     "execution_count": 71,
     "metadata": {},
     "output_type": "execute_result"
    }
   ],
   "source": [
    "compare_table_filtered"
   ]
  },
  {
   "cell_type": "markdown",
   "metadata": {},
   "source": [
    "It's interesting that the number of original triad types relatively conforms to the respective number randomly generated graphs.\n",
    "\n",
    "Now we append the **p0(Ti)** column in the filtered table to the **compare_table** containing the unfiltered data."
   ]
  },
  {
   "cell_type": "code",
   "execution_count": 72,
   "metadata": {},
   "outputs": [],
   "source": [
    "compare_table[\"p0(Ti)_filtered\"] = compare_table_filtered[\"p0(Ti)\"]"
   ]
  },
  {
   "cell_type": "markdown",
   "metadata": {},
   "source": [
    "Now, let's take a look into the generated table:"
   ]
  },
  {
   "cell_type": "code",
   "execution_count": 73,
   "metadata": {},
   "outputs": [
    {
     "data": {
      "text/html": [
       "<div>\n",
       "<style scoped>\n",
       "    .dataframe tbody tr th:only-of-type {\n",
       "        vertical-align: middle;\n",
       "    }\n",
       "\n",
       "    .dataframe tbody tr th {\n",
       "        vertical-align: top;\n",
       "    }\n",
       "\n",
       "    .dataframe thead th {\n",
       "        text-align: right;\n",
       "    }\n",
       "</style>\n",
       "<table border=\"1\" class=\"dataframe\">\n",
       "  <thead>\n",
       "    <tr style=\"text-align: right;\">\n",
       "      <th></th>\n",
       "      <th></th>\n",
       "      <th>|Ti|</th>\n",
       "      <th>p(Ti)</th>\n",
       "      <th>p0(Ti)</th>\n",
       "      <th>s(Ti)</th>\n",
       "      <th>p0(Ti)_filtered</th>\n",
       "    </tr>\n",
       "    <tr>\n",
       "      <th>Dataset</th>\n",
       "      <th>Triad (Ti)</th>\n",
       "      <th></th>\n",
       "      <th></th>\n",
       "      <th></th>\n",
       "      <th></th>\n",
       "      <th></th>\n",
       "    </tr>\n",
       "  </thead>\n",
       "  <tbody>\n",
       "    <tr>\n",
       "      <th rowspan=\"4\" valign=\"top\">Bitcoin Alpha</th>\n",
       "      <th>T3 +++</th>\n",
       "      <td>98349</td>\n",
       "      <td>0.841</td>\n",
       "      <td>0.806</td>\n",
       "      <td>30.9</td>\n",
       "      <td>0.445</td>\n",
       "    </tr>\n",
       "    <tr>\n",
       "      <th>T2 ++-</th>\n",
       "      <td>13634</td>\n",
       "      <td>0.117</td>\n",
       "      <td>0.18</td>\n",
       "      <td>-56.7</td>\n",
       "      <td>0.41</td>\n",
       "    </tr>\n",
       "    <tr>\n",
       "      <th>T1 +--</th>\n",
       "      <td>4590</td>\n",
       "      <td>0.039</td>\n",
       "      <td>0.014</td>\n",
       "      <td>75.1</td>\n",
       "      <td>0.127</td>\n",
       "    </tr>\n",
       "    <tr>\n",
       "      <th>T0 ---</th>\n",
       "      <td>331</td>\n",
       "      <td>0.003</td>\n",
       "      <td>0</td>\n",
       "      <td>48.3</td>\n",
       "      <td>0.018</td>\n",
       "    </tr>\n",
       "    <tr>\n",
       "      <th rowspan=\"4\" valign=\"top\">Bitcoin OTC</th>\n",
       "      <th>T3 +++</th>\n",
       "      <td>135845</td>\n",
       "      <td>0.826</td>\n",
       "      <td>0.724</td>\n",
       "      <td>92.8</td>\n",
       "      <td>0.186</td>\n",
       "    </tr>\n",
       "    <tr>\n",
       "      <th>T2 ++-</th>\n",
       "      <td>16868</td>\n",
       "      <td>0.103</td>\n",
       "      <td>0.247</td>\n",
       "      <td>-135.9</td>\n",
       "      <td>0.422</td>\n",
       "    </tr>\n",
       "    <tr>\n",
       "      <th>T1 +--</th>\n",
       "      <td>11095</td>\n",
       "      <td>0.067</td>\n",
       "      <td>0.028</td>\n",
       "      <td>95.9</td>\n",
       "      <td>0.325</td>\n",
       "    </tr>\n",
       "    <tr>\n",
       "      <th>T0 ---</th>\n",
       "      <td>659</td>\n",
       "      <td>0.004</td>\n",
       "      <td>0.001</td>\n",
       "      <td>39.5</td>\n",
       "      <td>0.067</td>\n",
       "    </tr>\n",
       "  </tbody>\n",
       "</table>\n",
       "</div>"
      ],
      "text/plain": [
       "                            |Ti|  p(Ti) p0(Ti)  s(Ti) p0(Ti)_filtered\n",
       "Dataset       Triad (Ti)                                             \n",
       "Bitcoin Alpha T3 +++       98349  0.841  0.806   30.9           0.445\n",
       "              T2 ++-       13634  0.117   0.18  -56.7            0.41\n",
       "              T1 +--        4590  0.039  0.014   75.1           0.127\n",
       "              T0 ---         331  0.003      0   48.3           0.018\n",
       "Bitcoin OTC   T3 +++      135845  0.826  0.724   92.8           0.186\n",
       "              T2 ++-       16868  0.103  0.247 -135.9           0.422\n",
       "              T1 +--       11095  0.067  0.028   95.9           0.325\n",
       "              T0 ---         659  0.004  0.001   39.5           0.067"
      ]
     },
     "execution_count": 73,
     "metadata": {},
     "output_type": "execute_result"
    }
   ],
   "source": [
    "compare_table"
   ]
  },
  {
   "cell_type": "markdown",
   "metadata": {},
   "source": [
    "As seen, the **T3** type is highly over-presented in the data compared to the shuffled graph generated based on the filtered data **(|Rating| > 3)** while the **T2** is highly underpresented. This means that if we just reshufle the edge signs with the ratio of positive and negative edges existent in the filtered data, we would be very safe as we are highly over-estimating the number of **T2s**. **It shall be noted that this comes as a cost: the T3 type is highly under-estimated. However, keeping in mind that the goal of a suggestion engine is to gurantee good experiences, this challenge can be justified.**"
   ]
  },
  {
   "cell_type": "markdown",
   "metadata": {},
   "source": [
    "## 6. Regression-Based Methods\n",
    "Now, let's study if the regression-based methods are capable of giving a good estimate of a future trade. We are going to use various features in our regression-baed model. Below, you can find the procedure for extracting those features."
   ]
  },
  {
   "cell_type": "markdown",
   "metadata": {},
   "source": [
    "### 6.1. Total Rating of a User\n",
    "This feature can be extracted by reading the degree of a node:"
   ]
  },
  {
   "cell_type": "code",
   "execution_count": 74,
   "metadata": {},
   "outputs": [],
   "source": [
    "df_triads_Bitcoinotc['Node1_degree'] = [i[1] for i in list(G_Bitcoinotc_df.degree(df_triads_Bitcoinotc['Node 1']))]\n",
    "df_triads_Bitcoinotc['Node2_degree'] = [i[1] for i in list(G_Bitcoinotc_df.degree(df_triads_Bitcoinotc['Node 2']))]\n",
    "df_triads_Bitcoinotc['Node3_degree'] = [i[1] for i in list(G_Bitcoinotc_df.degree(df_triads_Bitcoinotc['Node 3']))]"
   ]
  },
  {
   "cell_type": "markdown",
   "metadata": {},
   "source": [
    "Then we extract the weights of each edge that were read in the triad node extraction stage. For the cases where there is more than a single edge in between node pairs, an average is made between the edge ratings."
   ]
  },
  {
   "cell_type": "code",
   "execution_count": 75,
   "metadata": {},
   "outputs": [],
   "source": [
    "def split_weight (df):\n",
    "    if len(df) > 5:\n",
    "        splitted = (int(df.split(',')[0][1:]) + int(df.split(',')[1][1:-1]))/2\n",
    "    else:\n",
    "        splitted = int(df.split(',')[0][1:-1])\n",
    "\n",
    "    return splitted\n",
    "\n",
    "\n",
    "df_triads_Bitcoinotc['w_01'] = df_triads_Bitcoinotc['01'].apply(split_weight)\n",
    "df_triads_Bitcoinotc['w_02'] = df_triads_Bitcoinotc['02'].apply(split_weight)\n",
    "df_triads_Bitcoinotc['w_12'] = df_triads_Bitcoinotc['12'].apply(split_weight)"
   ]
  },
  {
   "cell_type": "markdown",
   "metadata": {},
   "source": [
    "Let's take a look at the extracted edge weights for the **Bitcoin OTC** dataset:"
   ]
  },
  {
   "cell_type": "code",
   "execution_count": 76,
   "metadata": {},
   "outputs": [
    {
     "data": {
      "text/html": [
       "<div>\n",
       "<style scoped>\n",
       "    .dataframe tbody tr th:only-of-type {\n",
       "        vertical-align: middle;\n",
       "    }\n",
       "\n",
       "    .dataframe tbody tr th {\n",
       "        vertical-align: top;\n",
       "    }\n",
       "\n",
       "    .dataframe thead th {\n",
       "        text-align: right;\n",
       "    }\n",
       "</style>\n",
       "<table border=\"1\" class=\"dataframe\">\n",
       "  <thead>\n",
       "    <tr style=\"text-align: right;\">\n",
       "      <th></th>\n",
       "      <th>Node 1</th>\n",
       "      <th>Node 2</th>\n",
       "      <th>Node 3</th>\n",
       "      <th>+++</th>\n",
       "      <th>++-</th>\n",
       "      <th>+--</th>\n",
       "      <th>---</th>\n",
       "      <th>01</th>\n",
       "      <th>02</th>\n",
       "      <th>12</th>\n",
       "      <th>Node1_degree</th>\n",
       "      <th>Node2_degree</th>\n",
       "      <th>Node3_degree</th>\n",
       "      <th>w_01</th>\n",
       "      <th>w_02</th>\n",
       "      <th>w_12</th>\n",
       "    </tr>\n",
       "  </thead>\n",
       "  <tbody>\n",
       "    <tr>\n",
       "      <th>0</th>\n",
       "      <td>6</td>\n",
       "      <td>2</td>\n",
       "      <td>1</td>\n",
       "      <td>8</td>\n",
       "      <td>0</td>\n",
       "      <td>0</td>\n",
       "      <td>0</td>\n",
       "      <td>[4, 5]</td>\n",
       "      <td>[8, 8]</td>\n",
       "      <td>[8, 8]</td>\n",
       "      <td>84</td>\n",
       "      <td>86</td>\n",
       "      <td>441</td>\n",
       "      <td>4.5</td>\n",
       "      <td>8.0</td>\n",
       "      <td>8.0</td>\n",
       "    </tr>\n",
       "    <tr>\n",
       "      <th>1</th>\n",
       "      <td>6</td>\n",
       "      <td>2</td>\n",
       "      <td>4</td>\n",
       "      <td>8</td>\n",
       "      <td>0</td>\n",
       "      <td>0</td>\n",
       "      <td>0</td>\n",
       "      <td>[4, 5]</td>\n",
       "      <td>[2, 5]</td>\n",
       "      <td>[5, 6]</td>\n",
       "      <td>84</td>\n",
       "      <td>86</td>\n",
       "      <td>117</td>\n",
       "      <td>4.5</td>\n",
       "      <td>3.5</td>\n",
       "      <td>5.5</td>\n",
       "    </tr>\n",
       "    <tr>\n",
       "      <th>2</th>\n",
       "      <td>6</td>\n",
       "      <td>2</td>\n",
       "      <td>13</td>\n",
       "      <td>0</td>\n",
       "      <td>4</td>\n",
       "      <td>0</td>\n",
       "      <td>0</td>\n",
       "      <td>[4, 5]</td>\n",
       "      <td>[-1]</td>\n",
       "      <td>[1, 2]</td>\n",
       "      <td>84</td>\n",
       "      <td>86</td>\n",
       "      <td>401</td>\n",
       "      <td>4.5</td>\n",
       "      <td>-1.0</td>\n",
       "      <td>1.5</td>\n",
       "    </tr>\n",
       "    <tr>\n",
       "      <th>3</th>\n",
       "      <td>6</td>\n",
       "      <td>2</td>\n",
       "      <td>10</td>\n",
       "      <td>4</td>\n",
       "      <td>0</td>\n",
       "      <td>0</td>\n",
       "      <td>0</td>\n",
       "      <td>[4, 5]</td>\n",
       "      <td>[3, 7]</td>\n",
       "      <td>[7]</td>\n",
       "      <td>84</td>\n",
       "      <td>86</td>\n",
       "      <td>13</td>\n",
       "      <td>4.5</td>\n",
       "      <td>5.0</td>\n",
       "      <td>7.0</td>\n",
       "    </tr>\n",
       "    <tr>\n",
       "      <th>4</th>\n",
       "      <td>6</td>\n",
       "      <td>2</td>\n",
       "      <td>7</td>\n",
       "      <td>8</td>\n",
       "      <td>0</td>\n",
       "      <td>0</td>\n",
       "      <td>0</td>\n",
       "      <td>[4, 5]</td>\n",
       "      <td>[5, 3]</td>\n",
       "      <td>[5, 5]</td>\n",
       "      <td>84</td>\n",
       "      <td>86</td>\n",
       "      <td>448</td>\n",
       "      <td>4.5</td>\n",
       "      <td>4.0</td>\n",
       "      <td>5.0</td>\n",
       "    </tr>\n",
       "    <tr>\n",
       "      <th>...</th>\n",
       "      <td>...</td>\n",
       "      <td>...</td>\n",
       "      <td>...</td>\n",
       "      <td>...</td>\n",
       "      <td>...</td>\n",
       "      <td>...</td>\n",
       "      <td>...</td>\n",
       "      <td>...</td>\n",
       "      <td>...</td>\n",
       "      <td>...</td>\n",
       "      <td>...</td>\n",
       "      <td>...</td>\n",
       "      <td>...</td>\n",
       "      <td>...</td>\n",
       "      <td>...</td>\n",
       "      <td>...</td>\n",
       "    </tr>\n",
       "    <tr>\n",
       "      <th>33488</th>\n",
       "      <td>5760</td>\n",
       "      <td>5762</td>\n",
       "      <td>5763</td>\n",
       "      <td>8</td>\n",
       "      <td>0</td>\n",
       "      <td>0</td>\n",
       "      <td>0</td>\n",
       "      <td>[5, 5]</td>\n",
       "      <td>[5, 5]</td>\n",
       "      <td>[5, 5]</td>\n",
       "      <td>8</td>\n",
       "      <td>10</td>\n",
       "      <td>8</td>\n",
       "      <td>5.0</td>\n",
       "      <td>5.0</td>\n",
       "      <td>5.0</td>\n",
       "    </tr>\n",
       "    <tr>\n",
       "      <th>33489</th>\n",
       "      <td>5760</td>\n",
       "      <td>5763</td>\n",
       "      <td>5764</td>\n",
       "      <td>2</td>\n",
       "      <td>0</td>\n",
       "      <td>0</td>\n",
       "      <td>0</td>\n",
       "      <td>[5, 5]</td>\n",
       "      <td>[5]</td>\n",
       "      <td>[5]</td>\n",
       "      <td>8</td>\n",
       "      <td>8</td>\n",
       "      <td>3</td>\n",
       "      <td>5.0</td>\n",
       "      <td>5.0</td>\n",
       "      <td>5.0</td>\n",
       "    </tr>\n",
       "    <tr>\n",
       "      <th>33490</th>\n",
       "      <td>5760</td>\n",
       "      <td>5763</td>\n",
       "      <td>5788</td>\n",
       "      <td>4</td>\n",
       "      <td>0</td>\n",
       "      <td>0</td>\n",
       "      <td>0</td>\n",
       "      <td>[5, 5]</td>\n",
       "      <td>[5]</td>\n",
       "      <td>[8, 8]</td>\n",
       "      <td>8</td>\n",
       "      <td>8</td>\n",
       "      <td>3</td>\n",
       "      <td>5.0</td>\n",
       "      <td>5.0</td>\n",
       "      <td>8.0</td>\n",
       "    </tr>\n",
       "    <tr>\n",
       "      <th>33491</th>\n",
       "      <td>5942</td>\n",
       "      <td>5943</td>\n",
       "      <td>5955</td>\n",
       "      <td>4</td>\n",
       "      <td>0</td>\n",
       "      <td>0</td>\n",
       "      <td>0</td>\n",
       "      <td>[1, 1]</td>\n",
       "      <td>[1]</td>\n",
       "      <td>[3, 3]</td>\n",
       "      <td>9</td>\n",
       "      <td>12</td>\n",
       "      <td>11</td>\n",
       "      <td>1.0</td>\n",
       "      <td>1.0</td>\n",
       "      <td>3.0</td>\n",
       "    </tr>\n",
       "    <tr>\n",
       "      <th>33492</th>\n",
       "      <td>5943</td>\n",
       "      <td>5955</td>\n",
       "      <td>5958</td>\n",
       "      <td>8</td>\n",
       "      <td>0</td>\n",
       "      <td>0</td>\n",
       "      <td>0</td>\n",
       "      <td>[3, 3]</td>\n",
       "      <td>[3, 3]</td>\n",
       "      <td>[10, 10]</td>\n",
       "      <td>12</td>\n",
       "      <td>11</td>\n",
       "      <td>6</td>\n",
       "      <td>3.0</td>\n",
       "      <td>3.0</td>\n",
       "      <td>10.0</td>\n",
       "    </tr>\n",
       "  </tbody>\n",
       "</table>\n",
       "<p>33493 rows × 16 columns</p>\n",
       "</div>"
      ],
      "text/plain": [
       "       Node 1  Node 2  Node 3  +++  ++-  +--  ---      01      02        12  \\\n",
       "0           6       2       1    8    0    0    0  [4, 5]  [8, 8]    [8, 8]   \n",
       "1           6       2       4    8    0    0    0  [4, 5]  [2, 5]    [5, 6]   \n",
       "2           6       2      13    0    4    0    0  [4, 5]    [-1]    [1, 2]   \n",
       "3           6       2      10    4    0    0    0  [4, 5]  [3, 7]       [7]   \n",
       "4           6       2       7    8    0    0    0  [4, 5]  [5, 3]    [5, 5]   \n",
       "...       ...     ...     ...  ...  ...  ...  ...     ...     ...       ...   \n",
       "33488    5760    5762    5763    8    0    0    0  [5, 5]  [5, 5]    [5, 5]   \n",
       "33489    5760    5763    5764    2    0    0    0  [5, 5]     [5]       [5]   \n",
       "33490    5760    5763    5788    4    0    0    0  [5, 5]     [5]    [8, 8]   \n",
       "33491    5942    5943    5955    4    0    0    0  [1, 1]     [1]    [3, 3]   \n",
       "33492    5943    5955    5958    8    0    0    0  [3, 3]  [3, 3]  [10, 10]   \n",
       "\n",
       "       Node1_degree  Node2_degree  Node3_degree  w_01  w_02  w_12  \n",
       "0                84            86           441   4.5   8.0   8.0  \n",
       "1                84            86           117   4.5   3.5   5.5  \n",
       "2                84            86           401   4.5  -1.0   1.5  \n",
       "3                84            86            13   4.5   5.0   7.0  \n",
       "4                84            86           448   4.5   4.0   5.0  \n",
       "...             ...           ...           ...   ...   ...   ...  \n",
       "33488             8            10             8   5.0   5.0   5.0  \n",
       "33489             8             8             3   5.0   5.0   5.0  \n",
       "33490             8             8             3   5.0   5.0   8.0  \n",
       "33491             9            12            11   1.0   1.0   3.0  \n",
       "33492            12            11             6   3.0   3.0  10.0  \n",
       "\n",
       "[33493 rows x 16 columns]"
      ]
     },
     "execution_count": 76,
     "metadata": {},
     "output_type": "execute_result"
    }
   ],
   "source": [
    "df_triads_Bitcoinotc"
   ]
  },
  {
   "cell_type": "markdown",
   "metadata": {},
   "source": [
    "Now let's get the train and test set for our model:"
   ]
  },
  {
   "cell_type": "code",
   "execution_count": 77,
   "metadata": {},
   "outputs": [],
   "source": [
    "Bitcoinotc_df_tr_rand, Bitcoinotc_df_test_rand = train_test_split(df_triads_Bitcoinotc, test_size=0.3, random_state=1)"
   ]
  },
  {
   "cell_type": "markdown",
   "metadata": {},
   "source": [
    "First, we take the degrees of **Node 1** and **Node 2** as features and the weight of the edge in between these two nodes as a target."
   ]
  },
  {
   "cell_type": "code",
   "execution_count": 78,
   "metadata": {},
   "outputs": [],
   "source": [
    "X_tr_rand = Bitcoinotc_df_tr_rand[['Node1_degree', 'Node2_degree']]\n",
    "X_test_rand = Bitcoinotc_df_test_rand[['Node1_degree', 'Node2_degree']]\n",
    "\n",
    "y_tr_rand = Bitcoinotc_df_tr_rand[['w_01']]\n",
    "y_test_rand = Bitcoinotc_df_test_rand[['w_01']]"
   ]
  },
  {
   "cell_type": "markdown",
   "metadata": {},
   "source": [
    "Then we look for the outliers in **Node1_degree** feature:"
   ]
  },
  {
   "cell_type": "code",
   "execution_count": 79,
   "metadata": {},
   "outputs": [
    {
     "data": {
      "image/png": "[encoded data removed]",
      "text/plain": [
       "<Figure size 432x288 with 2 Axes>"
      ]
     },
     "metadata": {
      "needs_background": "light"
     },
     "output_type": "display_data"
    }
   ],
   "source": [
    "z_scores_rand = ((X_tr_rand['Node1_degree']) - (X_tr_rand['Node1_degree']).mean()) / (X_tr_rand['Node1_degree'].std())\n",
    "\n",
    "# Plot z-scores\n",
    "plt.scatter((X_tr_rand['Node1_degree']), y_tr_rand, c=z_scores_rand, cmap=plt.cm.coolwarm)\n",
    "plt.colorbar()\n",
    "plt.xlabel('feature values')\n",
    "plt.ylabel('target values')\n",
    "plt.show()"
   ]
  },
  {
   "cell_type": "markdown",
   "metadata": {},
   "source": [
    "and we clean the outliers:"
   ]
  },
  {
   "cell_type": "code",
   "execution_count": 80,
   "metadata": {},
   "outputs": [
    {
     "name": "stdout",
     "output_type": "stream",
     "text": [
      "Size of the data before cleaning outliers:  23445  ; Size of the data after cleaning outliers:  22822\n"
     ]
    }
   ],
   "source": [
    "X_tr_rand_z_Node1, y_tr_rand_z_Node1 = X_tr_rand[z_scores_rand <= 3.0], y_tr_rand[z_scores_rand <= 3.0]\n",
    "\n",
    "print(\"Size of the data before cleaning outliers: \", X_tr_rand.shape[0], \n",
    "      \" ; Size of the data after cleaning outliers: \", X_tr_rand_z_Node1.shape[0])"
   ]
  },
  {
   "cell_type": "markdown",
   "metadata": {},
   "source": [
    "The same is done for the outliers in **Node2_degree** feature:"
   ]
  },
  {
   "cell_type": "code",
   "execution_count": 81,
   "metadata": {},
   "outputs": [
    {
     "data": {
      "image/png": "[encoded data removed]",
      "text/plain": [
       "<Figure size 432x288 with 2 Axes>"
      ]
     },
     "metadata": {
      "needs_background": "light"
     },
     "output_type": "display_data"
    }
   ],
   "source": [
    "z_scores_rand = ((X_tr_rand_z_Node1['Node2_degree']) - (X_tr_rand_z_Node1['Node2_degree']).mean()) / (X_tr_rand_z_Node1['Node2_degree'].std())\n",
    "\n",
    "# Plot z-scores\n",
    "plt.scatter((X_tr_rand_z_Node1['Node2_degree']), y_tr_rand_z_Node1, c=z_scores_rand, cmap=plt.cm.coolwarm)\n",
    "plt.colorbar()\n",
    "plt.xlabel('feature values')\n",
    "plt.ylabel('target values')\n",
    "plt.show()"
   ]
  },
  {
   "cell_type": "code",
   "execution_count": 82,
   "metadata": {},
   "outputs": [
    {
     "name": "stdout",
     "output_type": "stream",
     "text": [
      "Size of the data before cleaning outliers:  22822  ; Size of the data after cleaning outliers:  22718\n"
     ]
    }
   ],
   "source": [
    "X_tr_rand_z_Node1_Node2, y_tr_rand_z_Node1_Node2 = X_tr_rand_z_Node1[z_scores_rand <= 3.0], y_tr_rand_z_Node1[z_scores_rand <= 3.0]\n",
    "\n",
    "print(\"Size of the data before cleaning outliers: \", X_tr_rand_z_Node1.shape[0], \n",
    "      \" ; Size of the data after cleaning outliers: \", X_tr_rand_z_Node1_Node2.shape[0])"
   ]
  },
  {
   "cell_type": "markdown",
   "metadata": {},
   "source": [
    "Now, we create a Linear Regression model to see if it is capable of estimating the correct weight of the edge:"
   ]
  },
  {
   "cell_type": "code",
   "execution_count": 83,
   "metadata": {},
   "outputs": [
    {
     "data": {
      "image/png": "[encoded data removed]",
      "text/plain": [
       "<Figure size 432x288 with 1 Axes>"
      ]
     },
     "metadata": {
      "needs_background": "light"
     },
     "output_type": "display_data"
    }
   ],
   "source": [
    "Linear_reg = LinearRegression().fit(X_tr_rand_z_Node1_Node2, y_tr_rand_z_Node1_Node2)\n",
    "\n",
    "y_pred_rand = Linear_reg.predict(X_test_rand)\n",
    "\n",
    "residual = y_test_rand - y_pred_rand\n",
    "\n",
    "plt.scatter(y_test_rand, y_pred_rand)\n",
    "plt.xlabel('real weight')\n",
    "plt.ylabel('predicted weight')\n",
    "\n",
    "plt.show()"
   ]
  },
  {
   "cell_type": "code",
   "execution_count": 84,
   "metadata": {},
   "outputs": [
    {
     "name": "stdout",
     "output_type": "stream",
     "text": [
      "Linear Regression Model Test Coefficient of Determination:  0.0427\n"
     ]
    }
   ],
   "source": [
    "print(\"Linear Regression Model Test Coefficient of Determination: \", round(Linear_reg.score(X_tr_rand_z_Node1_Node2, y_tr_rand_z_Node1_Node2), 4))"
   ]
  },
  {
   "cell_type": "markdown",
   "metadata": {},
   "source": [
    "Unfortunately, it seems that the model was not successful in estimating the correct weight by a very low score of **0.0427**."
   ]
  },
  {
   "cell_type": "markdown",
   "metadata": {},
   "source": [
    "To increase the precision of the model, we add three additional features: **Degree of the 3rd node in a triad**, and **the weights of the other two edges in a triad**:"
   ]
  },
  {
   "cell_type": "code",
   "execution_count": 85,
   "metadata": {},
   "outputs": [],
   "source": [
    "X_tr_rand_2 = Bitcoinotc_df_tr_rand[['Node1_degree', 'Node2_degree', 'Node3_degree', 'w_02', 'w_12']]\n",
    "X_test_rand_2 = Bitcoinotc_df_test_rand[['Node1_degree', 'Node2_degree', 'Node3_degree', 'w_02', 'w_12']]\n",
    "\n",
    "y_tr_rand_2 = Bitcoinotc_df_tr_rand[['w_01']]\n",
    "y_test_rand_2 = Bitcoinotc_df_test_rand[['w_01']]"
   ]
  },
  {
   "cell_type": "code",
   "execution_count": 86,
   "metadata": {},
   "outputs": [
    {
     "data": {
      "image/png": "[encoded data removed]",
      "text/plain": [
       "<Figure size 432x288 with 1 Axes>"
      ]
     },
     "metadata": {
      "needs_background": "light"
     },
     "output_type": "display_data"
    }
   ],
   "source": [
    "Linear_reg_2 = LinearRegression().fit(X_tr_rand_2, y_tr_rand_2)\n",
    "\n",
    "y_pred_rand_2 = Linear_reg_2.predict(X_test_rand_2)\n",
    "\n",
    "residual_2 = y_test_rand_2 - y_pred_rand_2\n",
    "\n",
    "plt.scatter(y_test_rand_2, y_pred_rand_2)\n",
    "plt.xlabel('real weight')\n",
    "plt.ylabel('predicted weight')\n",
    "\n",
    "plt.show()"
   ]
  },
  {
   "cell_type": "code",
   "execution_count": 87,
   "metadata": {},
   "outputs": [
    {
     "name": "stdout",
     "output_type": "stream",
     "text": [
      "Linear Regression Model Test Coefficient of Determination:  0.2791\n"
     ]
    }
   ],
   "source": [
    "print(\"Linear Regression Model Test Coefficient of Determination: \", round(Linear_reg_2.score(X_tr_rand_2, y_tr_rand_2), 4))"
   ]
  },
  {
   "cell_type": "markdown",
   "metadata": {},
   "source": [
    "The model is not yet performing robustly. However, the score has increased significantly and reached to **0.2791**."
   ]
  },
  {
   "cell_type": "markdown",
   "metadata": {},
   "source": [
    "Now, let's try a more sophisticated regression-based model: the **Gradient Boosting Regressor**"
   ]
  },
  {
   "cell_type": "code",
   "execution_count": 88,
   "metadata": {},
   "outputs": [
    {
     "data": {
      "image/png": "[encoded data removed]",
      "text/plain": [
       "<Figure size 432x288 with 1 Axes>"
      ]
     },
     "metadata": {
      "needs_background": "light"
     },
     "output_type": "display_data"
    }
   ],
   "source": [
    "gbreg = GradientBoostingRegressor().fit(X_tr_rand_z_Node1_Node2, y_tr_rand_z_Node1_Node2.values.ravel())\n",
    "\n",
    "y_pred_rand_gbreg = gbreg.predict(X_test_rand)\n",
    "\n",
    "residual = y_test_rand.values.ravel() - y_pred_rand_gbreg\n",
    "\n",
    "plt.scatter(y_test_rand, y_pred_rand_gbreg)\n",
    "plt.xlabel('real weight')\n",
    "plt.ylabel('predicted weight')\n",
    "\n",
    "plt.show()"
   ]
  },
  {
   "cell_type": "code",
   "execution_count": 89,
   "metadata": {},
   "outputs": [
    {
     "name": "stdout",
     "output_type": "stream",
     "text": [
      "Gradient Boosting Model Test Coefficient of Determination:  0.4117\n"
     ]
    }
   ],
   "source": [
    "print(\"Gradient Boosting Model Test Coefficient of Determination: \", \n",
    "      round(gbreg.score(X_test_rand, y_test_rand.values.ravel()), 4))"
   ]
  },
  {
   "cell_type": "markdown",
   "metadata": {},
   "source": [
    "The score of gradient boosting is incredibly higher than the linear regression model with just two features **(0.4117)**"
   ]
  },
  {
   "cell_type": "code",
   "execution_count": 90,
   "metadata": {},
   "outputs": [
    {
     "data": {
      "image/png": "[encoded data removed]",
      "text/plain": [
       "<Figure size 432x288 with 1 Axes>"
      ]
     },
     "metadata": {
      "needs_background": "light"
     },
     "output_type": "display_data"
    }
   ],
   "source": [
    "gbreg_2 = GradientBoostingRegressor().fit(X_tr_rand_2, y_tr_rand_2.values.ravel())\n",
    "\n",
    "y_pred_rand_gbreg_2 = gbreg_2.predict(X_test_rand_2)\n",
    "\n",
    "residual = y_test_rand_2.values.ravel() - y_pred_rand_gbreg_2\n",
    "\n",
    "plt.scatter(y_test_rand_2, y_pred_rand_gbreg_2)\n",
    "plt.xlabel('real weight')\n",
    "plt.ylabel('predicted weight')\n",
    "\n",
    "plt.show()"
   ]
  },
  {
   "cell_type": "code",
   "execution_count": 91,
   "metadata": {},
   "outputs": [
    {
     "name": "stdout",
     "output_type": "stream",
     "text": [
      "Gradient Boosting Model Test Coefficient of Determination:  0.5724\n"
     ]
    }
   ],
   "source": [
    "print(\"Gradient Boosting Model Test Coefficient of Determination: \", \n",
    "      round(gbreg_2.score(X_test_rand_2, y_test_rand_2.values.ravel()), 4))"
   ]
  },
  {
   "cell_type": "markdown",
   "metadata": {},
   "source": [
    "With 5 features, the gradient boosting regressor is not still the best, by a score of **0.5724** is not that bad."
   ]
  },
  {
   "cell_type": "markdown",
   "metadata": {},
   "source": [
    "## 7. Conclusion\n",
    "Two approaches were used in this project to estimate the outcome of a trade in a crypto-currency trading platform. The first approach was based on the **balance theory** in which the edge signs of generated triads were shuffled and the distribution of actual triad types were compared to the distribution of the triad types gnerated through the shuffling method. The outcome of this prediction can be used by a suggestion engine to suggest a trader to another trader. The goal of this suggestion engine is to gurantee successful trades for the users of the trading platform. As a result, the higher the confidence in the result, the better. If the undesirable triad types are under-presented in the actual data compared to the shuffle data, it means that by shuffling the edge signs we are more likely to get an undesirable estimation than it may happen in reality. This means that the engine works on the safe side!\n",
    "\n",
    "Finally, two regression-based models were used to estimate the rating outcome of a future trade. The linear regression-based model was not so successful in estimating the weights, scoring very low. However, the gradient boosting regressor was able to give better results even by using low number of features (just the total ratings of the two sides of a trade)."
   ]
  }
 ],
 "metadata": {
  "kernelspec": {
   "display_name": "Python 3",
   "language": "python",
   "name": "python3"
  },
  "language_info": {
   "codemirror_mode": {
    "name": "ipython",
    "version": 3
   },
   "file_extension": ".py",
   "mimetype": "text/x-python",
   "name": "python",
   "nbconvert_exporter": "python",
   "pygments_lexer": "ipython3",
   "version": "3.7.6"
  }
 },
 "nbformat": 4,
 "nbformat_minor": 4
}
